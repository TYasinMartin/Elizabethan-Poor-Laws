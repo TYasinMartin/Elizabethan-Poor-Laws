{
 "cells": [
  {
   "cell_type": "code",
   "execution_count": 1,
   "id": "0d9ed198-a410-4e76-a09c-97188702a67a",
   "metadata": {},
   "outputs": [
    {
     "ename": "ModuleNotFoundError",
     "evalue": "No module named 'textblob'",
     "output_type": "error",
     "traceback": [
      "\u001b[0;31m---------------------------------------------------------------------------\u001b[0m",
      "\u001b[0;31mModuleNotFoundError\u001b[0m                       Traceback (most recent call last)",
      "Cell \u001b[0;32mIn[1], line 1\u001b[0m\n\u001b[0;32m----> 1\u001b[0m \u001b[38;5;28;01mfrom\u001b[39;00m \u001b[38;5;21;01mtextblob\u001b[39;00m \u001b[38;5;28;01mimport\u001b[39;00m TextBlob\n",
      "\u001b[0;31mModuleNotFoundError\u001b[0m: No module named 'textblob'"
     ]
    }
   ],
   "source": [
    "from textblob import TextBlob\n"
   ]
  },
  {
   "cell_type": "code",
   "execution_count": null,
   "id": "7fa98bfd-2d5e-4c4f-a6fa-ead90b06c6a6",
   "metadata": {},
   "outputs": [],
   "source": []
  },
  {
   "cell_type": "code",
   "execution_count": 3,
   "id": "0485027a-96ac-4969-b5a6-062906066353",
   "metadata": {},
   "outputs": [
    {
     "name": "stdout",
     "output_type": "stream",
     "text": [
      "Defaulting to user installation because normal site-packages is not writeable\n",
      "Looking in links: /usr/share/pip-wheels\n",
      "Collecting textblob\n",
      "  Downloading textblob-0.17.1-py2.py3-none-any.whl (636 kB)\n",
      "\u001b[2K     \u001b[38;5;70m━━━━━━━━━━━━━━━━━━━━━━━━━━━━━━━━━━━━━━━\u001b[0m \u001b[32m636.8/636.8 kB\u001b[0m \u001b[31m7.0 MB/s\u001b[0m eta \u001b[36m0:00:00\u001b[0m\u001b[36m0:00:01\u001b[0m\n",
      "\u001b[?25hRequirement already satisfied: nltk>=3.1 in /opt/conda/envs/anaconda-panel-2023.05-py310/lib/python3.11/site-packages (from textblob) (3.8.1)\n",
      "Requirement already satisfied: click in /opt/conda/envs/anaconda-panel-2023.05-py310/lib/python3.11/site-packages (from nltk>=3.1->textblob) (8.0.4)\n",
      "Requirement already satisfied: joblib in /opt/conda/envs/anaconda-panel-2023.05-py310/lib/python3.11/site-packages (from nltk>=3.1->textblob) (1.2.0)\n",
      "Requirement already satisfied: regex>=2021.8.3 in /opt/conda/envs/anaconda-panel-2023.05-py310/lib/python3.11/site-packages (from nltk>=3.1->textblob) (2022.7.9)\n",
      "Requirement already satisfied: tqdm in /opt/conda/envs/anaconda-panel-2023.05-py310/lib/python3.11/site-packages (from nltk>=3.1->textblob) (4.65.0)\n",
      "Installing collected packages: textblob\n",
      "Successfully installed textblob-0.17.1\n",
      "Note: you may need to restart the kernel to use updated packages.\n"
     ]
    }
   ],
   "source": [
    "pip install textblob"
   ]
  },
  {
   "cell_type": "code",
   "execution_count": null,
   "id": "1139a909-30b5-4e5b-b820-cbcf59b8e20e",
   "metadata": {},
   "outputs": [],
   "source": []
  },
  {
   "cell_type": "code",
   "execution_count": 5,
   "id": "2c8894fb-6fc5-453b-9aca-5f4957bf5c40",
   "metadata": {},
   "outputs": [
    {
     "ename": "ModuleNotFoundError",
     "evalue": "No module named 'textblob'",
     "output_type": "error",
     "traceback": [
      "\u001b[0;31m---------------------------------------------------------------------------\u001b[0m",
      "\u001b[0;31mModuleNotFoundError\u001b[0m                       Traceback (most recent call last)",
      "Cell \u001b[0;32mIn[5], line 1\u001b[0m\n\u001b[0;32m----> 1\u001b[0m \u001b[38;5;28;01mfrom\u001b[39;00m \u001b[38;5;21;01mtextblob\u001b[39;00m \u001b[38;5;28;01mimport\u001b[39;00m TextBlob\n",
      "\u001b[0;31mModuleNotFoundError\u001b[0m: No module named 'textblob'"
     ]
    }
   ],
   "source": [
    "from textblob import TextBlob\n"
   ]
  },
  {
   "cell_type": "code",
   "execution_count": null,
   "id": "b13b1ca7-2313-4e9d-8c45-9a4292d86361",
   "metadata": {},
   "outputs": [],
   "source": []
  },
  {
   "cell_type": "code",
   "execution_count": 7,
   "id": "1e455c11-07a5-4cbf-a7ac-bf2cb22b77dd",
   "metadata": {},
   "outputs": [
    {
     "name": "stdout",
     "output_type": "stream",
     "text": [
      "Defaulting to user installation because normal site-packages is not writeable\n",
      "Looking in links: /usr/share/pip-wheels\n",
      "Requirement already satisfied: textblob in /home/5b3b8f00-0889-4308-ab78-3f288909aa20/.local/lib/python3.11/site-packages (0.17.1)\n",
      "Requirement already satisfied: nltk>=3.1 in /opt/conda/envs/anaconda-panel-2023.05-py310/lib/python3.11/site-packages (from textblob) (3.8.1)\n",
      "Requirement already satisfied: click in /opt/conda/envs/anaconda-panel-2023.05-py310/lib/python3.11/site-packages (from nltk>=3.1->textblob) (8.0.4)\n",
      "Requirement already satisfied: joblib in /opt/conda/envs/anaconda-panel-2023.05-py310/lib/python3.11/site-packages (from nltk>=3.1->textblob) (1.2.0)\n",
      "Requirement already satisfied: regex>=2021.8.3 in /opt/conda/envs/anaconda-panel-2023.05-py310/lib/python3.11/site-packages (from nltk>=3.1->textblob) (2022.7.9)\n",
      "Requirement already satisfied: tqdm in /opt/conda/envs/anaconda-panel-2023.05-py310/lib/python3.11/site-packages (from nltk>=3.1->textblob) (4.65.0)\n",
      "Note: you may need to restart the kernel to use updated packages.\n"
     ]
    }
   ],
   "source": [
    "pip install textblob"
   ]
  },
  {
   "cell_type": "code",
   "execution_count": 9,
   "id": "66cca041-015b-4b3c-8d43-8f8b50110ee2",
   "metadata": {},
   "outputs": [
    {
     "name": "stdout",
     "output_type": "stream",
     "text": [
      "Defaulting to user installation because normal site-packages is not writeable\n",
      "Looking in links: /usr/share/pip-wheels\n",
      "Requirement already satisfied: textblob in /home/5b3b8f00-0889-4308-ab78-3f288909aa20/.local/lib/python3.11/site-packages (0.17.1)\n",
      "Requirement already satisfied: nltk>=3.1 in /opt/conda/envs/anaconda-panel-2023.05-py310/lib/python3.11/site-packages (from textblob) (3.8.1)\n",
      "Requirement already satisfied: click in /opt/conda/envs/anaconda-panel-2023.05-py310/lib/python3.11/site-packages (from nltk>=3.1->textblob) (8.0.4)\n",
      "Requirement already satisfied: joblib in /opt/conda/envs/anaconda-panel-2023.05-py310/lib/python3.11/site-packages (from nltk>=3.1->textblob) (1.2.0)\n",
      "Requirement already satisfied: regex>=2021.8.3 in /opt/conda/envs/anaconda-panel-2023.05-py310/lib/python3.11/site-packages (from nltk>=3.1->textblob) (2022.7.9)\n",
      "Requirement already satisfied: tqdm in /opt/conda/envs/anaconda-panel-2023.05-py310/lib/python3.11/site-packages (from nltk>=3.1->textblob) (4.65.0)\n"
     ]
    },
    {
     "ename": "ModuleNotFoundError",
     "evalue": "No module named 'textblob'",
     "output_type": "error",
     "traceback": [
      "\u001b[0;31m---------------------------------------------------------------------------\u001b[0m",
      "\u001b[0;31mModuleNotFoundError\u001b[0m                       Traceback (most recent call last)",
      "Cell \u001b[0;32mIn[9], line 2\u001b[0m\n\u001b[1;32m      1\u001b[0m get_ipython()\u001b[38;5;241m.\u001b[39msystem(\u001b[38;5;124m'\u001b[39m\u001b[38;5;124mpip install textblob\u001b[39m\u001b[38;5;124m'\u001b[39m)\n\u001b[0;32m----> 2\u001b[0m \u001b[38;5;28;01mfrom\u001b[39;00m \u001b[38;5;21;01mtextblob\u001b[39;00m \u001b[38;5;28;01mimport\u001b[39;00m TextBlob\n",
      "\u001b[0;31mModuleNotFoundError\u001b[0m: No module named 'textblob'"
     ]
    }
   ],
   "source": [
    "!pip install textblob\n",
    "from textblob import TextBlob"
   ]
  },
  {
   "cell_type": "code",
   "execution_count": 11,
   "id": "cdc450be-e945-4644-a3ae-4ddb7eefc3dc",
   "metadata": {},
   "outputs": [
    {
     "name": "stdout",
     "output_type": "stream",
     "text": [
      "Defaulting to user installation because normal site-packages is not writeable\n",
      "Looking in links: /usr/share/pip-wheels\n",
      "Requirement already satisfied: textblob in /home/5b3b8f00-0889-4308-ab78-3f288909aa20/.local/lib/python3.11/site-packages (0.17.1)\n",
      "Requirement already satisfied: nltk>=3.1 in /opt/conda/envs/anaconda-panel-2023.05-py310/lib/python3.11/site-packages (from textblob) (3.8.1)\n",
      "Requirement already satisfied: click in /opt/conda/envs/anaconda-panel-2023.05-py310/lib/python3.11/site-packages (from nltk>=3.1->textblob) (8.0.4)\n",
      "Requirement already satisfied: joblib in /opt/conda/envs/anaconda-panel-2023.05-py310/lib/python3.11/site-packages (from nltk>=3.1->textblob) (1.2.0)\n",
      "Requirement already satisfied: regex>=2021.8.3 in /opt/conda/envs/anaconda-panel-2023.05-py310/lib/python3.11/site-packages (from nltk>=3.1->textblob) (2022.7.9)\n",
      "Requirement already satisfied: tqdm in /opt/conda/envs/anaconda-panel-2023.05-py310/lib/python3.11/site-packages (from nltk>=3.1->textblob) (4.65.0)\n"
     ]
    },
    {
     "ename": "ModuleNotFoundError",
     "evalue": "No module named 'textblob'",
     "output_type": "error",
     "traceback": [
      "\u001b[0;31m---------------------------------------------------------------------------\u001b[0m",
      "\u001b[0;31mModuleNotFoundError\u001b[0m                       Traceback (most recent call last)",
      "Cell \u001b[0;32mIn[11], line 2\u001b[0m\n\u001b[1;32m      1\u001b[0m get_ipython()\u001b[38;5;241m.\u001b[39msystem(\u001b[38;5;124m'\u001b[39m\u001b[38;5;124mpip install textblob\u001b[39m\u001b[38;5;124m'\u001b[39m)\n\u001b[0;32m----> 2\u001b[0m \u001b[38;5;28;01mfrom\u001b[39;00m \u001b[38;5;21;01mtextblob\u001b[39;00m \u001b[38;5;28;01mimport\u001b[39;00m TextBlob\n",
      "\u001b[0;31mModuleNotFoundError\u001b[0m: No module named 'textblob'"
     ]
    }
   ],
   "source": [
    "!pip install textblob\n",
    "from textblob import TextBlob"
   ]
  },
  {
   "cell_type": "code",
   "execution_count": 13,
   "id": "ed82df7c-045c-458d-a3d2-df310fe85306",
   "metadata": {},
   "outputs": [
    {
     "name": "stdout",
     "output_type": "stream",
     "text": [
      "Defaulting to user installation because normal site-packages is not writeable\n",
      "Looking in links: /usr/share/pip-wheels\n",
      "Requirement already satisfied: textblob in /home/5b3b8f00-0889-4308-ab78-3f288909aa20/.local/lib/python3.11/site-packages (0.17.1)\n",
      "Requirement already satisfied: nltk>=3.1 in /opt/conda/envs/anaconda-panel-2023.05-py310/lib/python3.11/site-packages (from textblob) (3.8.1)\n",
      "Requirement already satisfied: click in /opt/conda/envs/anaconda-panel-2023.05-py310/lib/python3.11/site-packages (from nltk>=3.1->textblob) (8.0.4)\n",
      "Requirement already satisfied: joblib in /opt/conda/envs/anaconda-panel-2023.05-py310/lib/python3.11/site-packages (from nltk>=3.1->textblob) (1.2.0)\n",
      "Requirement already satisfied: regex>=2021.8.3 in /opt/conda/envs/anaconda-panel-2023.05-py310/lib/python3.11/site-packages (from nltk>=3.1->textblob) (2022.7.9)\n",
      "Requirement already satisfied: tqdm in /opt/conda/envs/anaconda-panel-2023.05-py310/lib/python3.11/site-packages (from nltk>=3.1->textblob) (4.65.0)\n"
     ]
    },
    {
     "ename": "ModuleNotFoundError",
     "evalue": "No module named 'textblob'",
     "output_type": "error",
     "traceback": [
      "\u001b[0;31m---------------------------------------------------------------------------\u001b[0m",
      "\u001b[0;31mModuleNotFoundError\u001b[0m                       Traceback (most recent call last)",
      "Cell \u001b[0;32mIn[13], line 2\u001b[0m\n\u001b[1;32m      1\u001b[0m get_ipython()\u001b[38;5;241m.\u001b[39msystem(\u001b[38;5;124m'\u001b[39m\u001b[38;5;124mpip install textblob\u001b[39m\u001b[38;5;124m'\u001b[39m)\n\u001b[0;32m----> 2\u001b[0m \u001b[38;5;28;01mfrom\u001b[39;00m \u001b[38;5;21;01mtextblob\u001b[39;00m \u001b[38;5;28;01mimport\u001b[39;00m TextBlob\n",
      "\u001b[0;31mModuleNotFoundError\u001b[0m: No module named 'textblob'"
     ]
    }
   ],
   "source": [
    "!pip install textblob\n",
    "from textblob import TextBlob"
   ]
  },
  {
   "cell_type": "code",
   "execution_count": 2,
   "id": "6ed4ece8-1058-4e0d-92df-7ca7cee1b631",
   "metadata": {},
   "outputs": [
    {
     "name": "stdout",
     "output_type": "stream",
     "text": [
      "Defaulting to user installation because normal site-packages is not writeable\n",
      "Looking in links: /usr/share/pip-wheels\n",
      "Requirement already satisfied: textblob in /home/5b3b8f00-0889-4308-ab78-3f288909aa20/.local/lib/python3.11/site-packages (0.17.1)\n",
      "Requirement already satisfied: nltk>=3.1 in /opt/conda/envs/anaconda-panel-2023.05-py310/lib/python3.11/site-packages (from textblob) (3.8.1)\n",
      "Requirement already satisfied: click in /opt/conda/envs/anaconda-panel-2023.05-py310/lib/python3.11/site-packages (from nltk>=3.1->textblob) (8.0.4)\n",
      "Requirement already satisfied: joblib in /opt/conda/envs/anaconda-panel-2023.05-py310/lib/python3.11/site-packages (from nltk>=3.1->textblob) (1.2.0)\n",
      "Requirement already satisfied: regex>=2021.8.3 in /opt/conda/envs/anaconda-panel-2023.05-py310/lib/python3.11/site-packages (from nltk>=3.1->textblob) (2022.7.9)\n",
      "Requirement already satisfied: tqdm in /opt/conda/envs/anaconda-panel-2023.05-py310/lib/python3.11/site-packages (from nltk>=3.1->textblob) (4.65.0)\n"
     ]
    }
   ],
   "source": [
    "!pip install textblob\n",
    "from textblob import TextBlob"
   ]
  },
  {
   "cell_type": "code",
   "execution_count": 4,
   "id": "c2f57876-a3a9-46f0-a0ff-b818e9935a64",
   "metadata": {},
   "outputs": [
    {
     "name": "stdout",
     "output_type": "stream",
     "text": [
      "Defaulting to user installation because normal site-packages is not writeable\n",
      "Looking in links: /usr/share/pip-wheels\n",
      "Requirement already satisfied: textblob in /home/5b3b8f00-0889-4308-ab78-3f288909aa20/.local/lib/python3.11/site-packages (0.17.1)\n",
      "Requirement already satisfied: nltk>=3.1 in /opt/conda/envs/anaconda-panel-2023.05-py310/lib/python3.11/site-packages (from textblob) (3.8.1)\n",
      "Requirement already satisfied: click in /opt/conda/envs/anaconda-panel-2023.05-py310/lib/python3.11/site-packages (from nltk>=3.1->textblob) (8.0.4)\n",
      "Requirement already satisfied: joblib in /opt/conda/envs/anaconda-panel-2023.05-py310/lib/python3.11/site-packages (from nltk>=3.1->textblob) (1.2.0)\n",
      "Requirement already satisfied: regex>=2021.8.3 in /opt/conda/envs/anaconda-panel-2023.05-py310/lib/python3.11/site-packages (from nltk>=3.1->textblob) (2022.7.9)\n",
      "Requirement already satisfied: tqdm in /opt/conda/envs/anaconda-panel-2023.05-py310/lib/python3.11/site-packages (from nltk>=3.1->textblob) (4.65.0)\n"
     ]
    }
   ],
   "source": [
    "!pip install textblob\n",
    "from textblob import TextBlob"
   ]
  },
  {
   "cell_type": "code",
   "execution_count": 8,
   "id": "8a96b309-df1c-4714-971c-96691e9b4ce8",
   "metadata": {},
   "outputs": [
    {
     "ename": "SyntaxError",
     "evalue": "unterminated string literal (detected at line 1) (3548965552.py, line 1)",
     "output_type": "error",
     "traceback": [
      "\u001b[0;36m  Cell \u001b[0;32mIn[8], line 1\u001b[0;36m\u001b[0m\n\u001b[0;31m    text = \"Poor Laws\u001b[0m\n\u001b[0m           ^\u001b[0m\n\u001b[0;31mSyntaxError\u001b[0m\u001b[0;31m:\u001b[0m unterminated string literal (detected at line 1)\n"
     ]
    }
   ],
   "source": [
    "text = \"Poor Laws\n",
    "blob = TextBlob (text)\n"
   ]
  },
  {
   "cell_type": "code",
   "execution_count": null,
   "id": "3c4f9ec0-4d3e-436a-8bf3-4f32694c4d0c",
   "metadata": {},
   "outputs": [],
   "source": []
  },
  {
   "cell_type": "code",
   "execution_count": 12,
   "id": "cc6b39d4-1f70-4377-8c25-e75250a49a33",
   "metadata": {},
   "outputs": [
    {
     "ename": "SyntaxError",
     "evalue": "unterminated string literal (detected at line 1) (290743158.py, line 1)",
     "output_type": "error",
     "traceback": [
      "\u001b[0;36m  Cell \u001b[0;32mIn[12], line 1\u001b[0;36m\u001b[0m\n\u001b[0;31m    text = \"1601: 43 Elizabeth 1 c.2: An Act for the Relief of the Poor\u001b[0m\n\u001b[0m           ^\u001b[0m\n\u001b[0;31mSyntaxError\u001b[0m\u001b[0;31m:\u001b[0m unterminated string literal (detected at line 1)\n"
     ]
    }
   ],
   "source": [
    "text = \"1601: 43 Elizabeth 1 c.2: An Act for the Relief of the Poor\n",
    "Be it enacted by the authority of this present parliament, that the churchwardens of every Parish, and four, three or two substantial householders there, as shall be thought meet, having respect to the proportion and greatness of the same Parish and Parishes to be nominated yearly in Easter week, or within one month after Easter, under the hand and seal of two or more Justices of the Peace in the same County, whereof one to be of the Quorum, dwelling in or near same Parish of division where the same parish doth lie, shall be called Overseers of the poor of the same Parish, and they, or the greater part of them shall take order from time to time, by and with the consent of two or more Justices of Peace, as is aforesaid, for setting to work of the children whose parents shall not by the said Churchwardens, and Overseers, or the greater part of them, be thought able to keep and maintain their children. And also for setting to work all such persons married or unmarried, having no means to maintain them, or no ordinary and daily trade of life to get their living by, and also to raise weekly or otherwise (by taxation of every Inhabitant, Parson, Vicar, and other, and of every occupier of Lands, Houses, Tithes impropriate, or Propriations of Tithes, Coalmines, or saleable underwoods in the said Parish, in such competent sum and sums of money as they think fit) a convenient stock of Flax, Hemp, Wool, Thread, iron, and other necessary ware and stuff to set the poor on work, and also competent sums of money, for, and towards the necessary relief of the lame, impotent, old, blind, and such other among them being poor, and not able to work, and also for the putting out of such children to be apprentices, to be gathered out of the same Parish, according to the ability of the same parish, and to do and execute all other things, as well for the disposing of the said stock, as otherwise concerning the premises, as to them shall seem convenient.\n",
    "\n",
    "Which said Churchwardens and Overseers so to be nominated, or such of them as shall not be let by sickness, or other just excuse, to be allowed by two such Justices of peace or more, as is aforesaid, shall meet together at the least once every month, in the Church of the said Parish, upon the Sunday in the afternoon, after divine Service, then to consider of some good course to be taken, and of some meet order to be set down in the premises, and shall within four days after the end of their year, and after other Overseers nominated as aforesaid, make and yield up to such two Justices of Peace as aforesaid, a true and perfect account of all sums of money by them received, or rated and assessed, and not received, and also of such stock as shall be in their hands, or in the hands of any of the poor to work, and of all other things concerning their said office, and such sum or sums of money as shall be in their hands, shall pay and deliver over to the said Churchwardens and Overseers, newly nominated and appointed as aforesaid, upon pain that everyone of them absenting themselves without lawful cause as aforesaid, from such monthly meeting for the purpose aforesaid, or being negligent in their office, or in the execution of the orders aforesaid, being made by and with the assent of the said Justices of Peace, or any two of them before mentioned, to forfeit for every such default of absence or negligence, twenty shillings.\n",
    "\n",
    "And be it also enacted, that if the said Justices of peace do perceive that the Inhabitants of any Parish are not able to levy amongst themselves sufficient sums of money for the purposes aforesaid: that then the said two Justices shall and may tax, rate and assess, as aforesaid, any other of other Parishes, or out of any Parish within the Hundred where the said Parish is, to pay such sum and sums of money to the Churchwardens and Overseers of the said poor Parish, for the said purposes, as the said Justices shall think fit, according to the intent of this Law. And if the said Hundred shall not to be thought to the said Justices able, and fit to relieve the said several Parishes not able to provide for themselves as aforesaid, Then the Justices of Peace at their general quarter Sessions, or the greater number of them, shall rate and assess, as aforesaid, any other of other Parishes, or out of any Parish within the said County for the purposes aforesaid, as in their direction shall seem fit. And that it shall be lawful as well for the present as subsequent Churchwardens and Overseers, or any of them, by warrant from any such Justices of peace as is aforesaid, to levy as well the said sums of money and all arrearages of everyone that shall refuse to contribute according as they shall be assessed, by distress and sale of the offenders goods, as the sums of money, or stock which shall be behind upon any account to be made as aforesaid, rendering to the parties the overplus, and in defect of such distress, it shall be lawful for any two Justices of the Peace, to commit him or them to the common Gaol of the County, there to remain without bail or mainprize, until payment of the said sum, arrearages and stock, and the said Justices of peace, or any of them, to send to the house of correction or common Gaol such as shall not employ themselves to work, being appointed thereunto as aforesaid: And also any two such Justices of peace to commit to the said prison, everyone of the said Churchwardens and Overseers, which shall refuse to account, there to remain without bail or mainprize, until he have made a true account, and satisfied and paid so much as upon the said account be remaining in his hands.\n",
    "\n",
    "And be it further enacted, that it shall be lawful for the said Churchwardens and Overseers, or the greater part of them, by the assent of any two Justices of the Peace aforesaid, to bind any such children as aforesaid, to be apprentices, where they shall see convenient, till such man child shall come to the age of four and twenty years, and such woman child to the age of one and twenty years or the time of her marriage: The same to be as effectual as to all purposes, as if such child were of full age, and by Indenture of covenant bound him or her self.\n",
    "\n",
    "And to the intent that necessary places of habitation may more conveniently be provided for such poor impotent people, be it enacted by the authority aforesaid, that it shall and may be lawful for the said Churchwardens and Overseers or the greater part of them, by the leave of the Lord or Lords of the Manor, whereof any waste, or Common within their parish is or shall be parcel, and upon agreement before with him or them made in writing under the hands and seals of the said Lord or Lords or otherwise, according to any order to be set down by the said Justices of peace of the said County at the General quarter Sessions, or the greater part of them, by like leave and agreement of the said Lord or Lords, in writing under his or their hands and seals, To erect, build and set up in fit and convenient places of habitation, in such Waste or Common, at the general charges of the Parish, or otherwise of the Hundred or County as aforesaid, to be taxed rated and gathered, in manner before expressed, convenient houses of dwelling for the said impotent poor, and also to place Inmates or more families than one in one cottage, or house, One Act made in the one and thirtieth year of he Majesties Reign, entitled, An Act against the erecting and maintaining of Cottages, or any thing therein contained to the contrary notwithstanding. Which cottages and places for inmates shall not at any time after be used or employed to or for any other habitation, but only for impotent and poor of the same Parish, that shall be there placed from time to time by the Churchwardens and Overseers of the poor of the same Parish or the most part of them, upon the pains and forfeitures contained in the said former Act made in the said one and thirtieth year of her Majesties reign.\n",
    "\n",
    "Provided always, that if any person or persons that find themselves grieved with any Cesse or Tax, or any other Act done by the said Churchwardens and other persons, or by the said Justices of peace, that then it shall be lawful for the Justices of peace, at their general quarter Sessions, or the greater number of them, to take such order therein as to them shall be thought convenient, and the same to conclude and bind all the said parties.\n",
    "\n",
    "And be it further enacted, That the Father and grandfather, and the Mother and Grandmother, and the children of every poor, old, blind, lame, and impotent person, or other poor person, not able to work, being of a sufficient ability, shall at their own charges relieve and maintain every such poor person in that manner, and according to that rate, as by the Justices of peace of that County where such sufficient persons dwell, or the greater number of them, at their general quarter Sessions shall be assessed, upon pain that every one them shall forfeit twenty shillings for every month which they shall fail therein.\n",
    "\n",
    "And be it further hereby enacted, That the Mayors, Bailiffs, or other head Officers of every Town and place corporate, and City within this Realm, being Justice or Justices of peace, shall have the same authority by virtue of this Act, within the limits and precincts of their jurisdictions, as well out of Sessions as at their Sessions, if they hold any, as is herein limited, prescribed, and appointed to Justices of the Peace of the County, or any two or more of them, or to the Justices of peace in their quarter Sessions, to do and execute for all the uses and purposes in this Act prescribed, and no other Justice or Justices of peace to enter or meddle there. And that every Alderman of the City of London within his ward, shall and may do and execute in every respect, so much as is appointed and allowed by this Act to be done and executed by one or two Justices of peace, of any County within this Realm.\n",
    "\n",
    "And be it also enacted, That if it shall happen any Parish to extend itself into more Counties than one, or part to lie within the liberties of any City, Town or place corporate, and part without, that then as well the Justices of peace of every County, as also the head Officers of such City, Town or place corporate, shall deal and intermeddle only in so much of the said Parish, as lieth within their liberties, and not any further. And everyone one of them respectively within their several Limits, Wards, and Jurisdictions, to execute the ordinances before mentioned concerning the nomination of Overseers, the consent to binding apprentices, the given warrant to levy Taxations unpaid, the taking account of Churchwardens and Overseers, and the committing to prison such as refuse to account, or deny to pay the arrearages due upon their accounts. And yet nevertheless, the said Churchwardens and Overseers, or the most part of them of the said parishes, that do extend into such several Limits and Jurisdictions, shall without dividing themselves, duely execute their office in all places within the said Parish, in all things to them belonging, and shall duely exhibit and make one account before the said head Officers of the town or place corporate, and one other before the said Justices of Peace, or any such two of them, as is aforesaid.\n",
    "\n",
    "And further be it enacted by the authority aforesaid, That if in any place within this Realm there happen to be hereafter no such nomination of Overseers yearly as is before appointed, that then every Justice of peace of the County dwelling within the division, where such default of nomination shall happen, and every Mayor, Alderman and head Officer, of City, town, or place corporate, where such default shall happen shall lose and forfeit for such default five pound, to be employed towards the relief of the poor of the said parish, or place corporate, and to be levied as aforesaid of their goods by warrant from the general Sessions of the Peace of the said County, or of the same City, town, or place corporate, if they keep Sessions.\n",
    "\n",
    "And be it also enacted by the authority aforesaid, that all penalties and forfeitures, before mentioned in this Act to be forfeited by any person or persons, shall go and be employed to the use of the poor of the same Parish, and towards a Stock and habitation for them, and other necessary uses and relief as before in this Act are mentioned and expressed, and shall be levied by the said Churchwardens and Overseers or one of them by warrant from any two such Justices of Peace, or Mayor, Alderman, or head officer of City, town, or place corporate, respectively within their several limits by distress and sale thereof, as aforesaid, or in defect thereof, it shall be lawful for any two such Justices of Peace, and the said Aldermen and head officers within their several limits, to commit the offender to the said prison, there to remain without bail or mainprize, till the said forfeitures shall be satisfied and paid.\n",
    "\n",
    "And be it further enacted by the authority aforesaid, that the Justices of peace of every County or place corporate, or the more part of them in their general Sessions to be holden next after the feast of Easter next, and so yearly as often as they shall think meet, shall rate every parish to to such a weekly sum of money as they shall think convenient, so as no parish be rated above the sum of five pence, nor under the sum of a halfpenny, weekly to be paid, and so as the total sum of the taxation of the parishes in every County, amount not above the rate of two pence for every parish within the said County. Which sums so taxed, shall be yearly assessed by the agreement of the parishioners within themselves, or in default thereof, by the Churchwardens and petty Constables of the same parish, or the more part of them, or in default of their agreement, by the order of such Justice or Justices of Peace, as shall dwell in the same parish, or (if none be there dwelling) in the parts next adjoining. And if any person shall refuse or neglect to pay any such portion of money so taxed, it shall be lawful for the said Churchwardens and Constables, or any of them, or in their default for any Justice of Peace of the said limit, to levy the same by distress, and sale of the goods of the party so refusing or neglecting, rendering to the party the overplus, and in default of such distress, it shall be lawful to any Justice of that limit, so commit such person to the said prison, there to abide without bail or mainprize, till be have paid the same.\n",
    "\n",
    "And be it also enacted, that the said Justices of peace at their general quarter Sessions to be holden at the time of such taxation, shall set down what competent sums of money shall be sent quarterly out of every County or place corporate, for the relief of the poor prisoners of the Kings Bench and Marshalsea, and also of such hospitals and almshouses, as shall be in the said County, and what sums of money shall be sent to every one of the said hospitals and almshouses, so as there be sent out of every County yearly twenty shillings at the least to each of the said prisons of the Kings Bench and Marshalsea, which sums rateably to be assessed upon every parish, the Churchwardens of every parish shall truly collect and pay over to the high Constables in whose division such parish shall be situate, from time to time, quarterly ten days before the end of every quarter, and every such Constable at every such quarter sessions in such County, shall pay over the same to such two Treasurers, or to one of them, as shall by the more part of the Justices of peace of the County, be elected to be the said Treasurers, to be chosen by the Justices of peace of the said County, City or town, or place corporate, or of others which were assessed and taxed at five pound lands, or ten pounds goods, at the least, at the tax of Subsidy next before the time of the said election to be made.\n",
    "\n",
    "And the said treasurers so elected, to continue for the space of one whole year in their office, and then to give up their charge with a due account of their receipts and disbursements, at the quarter Sessions to be holden next after the feast of Easter in every year, to such others as shall from year to year in form aforesaid successively be elected Treasurers for the said County, City, town, or place corporate, which said Treasurers, or one of them, shall pay over the same to the Lord Chief Justice of England, and Knight Marshal for the time being, equally to be divided to the use aforesaid, taking their aquittance for the same, or in default of the said Chief Justice, to the next ancientest Justice of the Kings Bench as aforesaid. And if any Churchwarden or High Constable, or his executors or administrators, shall fail to make payment in form above specified, then every Churchwarden, his executors or administrators, so offending, shall forfeit for every time the sum of ten shillings, and every high Constable, his executors or administrators, shall forfeit for every time the sum of twenty shillings, the same forfeitures together with the sums behind, to be levied by the said Treasurer and Treasurers, by way of distress, and sale of the goods as aforesaid, in form aforesaid, and by them to be employed towards the charitable uses comprised in this Act.\n",
    "\n",
    "And be it further enacted, that all the surplusage of money which shall be remaining in the said stock, of any County, shall by discretion of the more part of the Justices of peace, in their quarter Sessions, be ordered, distributed and bestowed for the relief of the poor Hospitals of that County, and of those that shall sustain losses by fire, water, the Sea, or other casualties, and to such other charitable purposes, for the relief of the poor, as to the more part of the said Justices of peace shall seem convenient.\n",
    "\n",
    "And be it further enacted, that if any treasurer elected, shall wilfully refuse to take upon him the said office of Treasurership, or refuse to distribute and give relief, or to account according to such form as shall be appointed by the more part of the said Justices of peace in their quarter Sessions, or in default, for the Justices of Assize, at the Assizes to be holden in the same County, to fine the same treasurer by their discretion: the same fine not to be under three pound, and to be levied by sale of his goods, and to be prosecuted by any two of the said Justices of peace, whom they shall authorise. Provided always, that this Act shall not take effect until the feast of Easter next.\n",
    "\n",
    "And be it enacted that the Statute made in the nine and thirtieth year of her Majesties reign, entitled, An Act for the relief of the poor, shall continue and stand in force until the feast of Easter next, And that all taxations heretofore imposed and not paid, nor that shall be paid before the said feast of Easter next, and that all Taxes hereafter, before the said feast, to be taxed by virtue of the said former Act, which shall not be paid before the said feast of Easter, shall and may after the said feast of Easter, be levied by the Overseers and other persons in this Act respectively appointed to levy taxations by distress, and by such warrant in every respect, as if they had been taxed and imposed by virtue of this Act and were not paid.\n",
    "\n",
    "Provided always, that whereas the Island of Foulness in the County of Essex, being environed with the Sea, and having a Chapel of ease for the inhabitants thereof, and yet the said Island is no parish, but the lands in the same are situated within divers parishes, far distant from the said Island, Be it therefore enacted by the authority aforesaid, that the said Justices of peace shall nominate and appoint inhabitants within the same Island to be Overseers for the poor people dwelling within the said Island, and that both they the said Justices and the said Overseers shall have the same power and authority to all intents, considerations and purposes, for the execution of the parts and articles of this Act, and shall be subject to the same pains and forfeitures, and likewise that the inhabitants and occupiers of lands there, shall be liable and chargeable to the same payments, charges, expenses and orders, in such manner and form as if the same Island were a parish. In consideration whereof, neither the said inhabitants, or occupiers of land within the said Island shall not be compelled to contribute to the relief of the poor of those parishes, wherein their houses or lands which they occupy within the said Island are situated, for or by reason of their said habitations or occupyings, other than for the relief of the poor people within the said Island, neither yet shall the other inhabitants of the parishes wherein such houses or lands are situated, be compelled by reason of their residence or dwelling, to contribute to the relief of the poor inhabitants within the said Island.\n",
    "\n",
    "And be it further enacted, that if any action of trespass, or other suit shall happen to be attempted and brought against any person or persons for taking of any distress, making of any sale, or any other thing doing by authority of this present Act: The defendant or defendants in any such action or suit, shall and may either plead not guilty, or otherwise make avow, cognisance or justification, for the taking of the said distresses, making of sale, or other thing doing, by virtue of this Act, alleging in such avowry, cognisance, or justification, that the said distress, sale, trespass, or other thing whereof the plaintiff or plaintiffs complained was done by authority of this Act, and according to the tenor, purpose, and effect of this Act, without any expressing or rehearsal of any other matter or circumstance contained in this present Act. To which avowry, cognisance or justification the plaintiff shall be permitted to reply, that the defendant did take the said distress, made the said sale, or did any other act or trespass supposed in his declaration of his own wrong, without any such cause alleged by the said defendant, whereupon the issue in every such action shall be joined, to be tried by verdict of twelve men, and not otherwise, accustomed in other personal actions. And upon the trial of that issue, the whole matter to be given on both parties in evidence, according to the very truth of the same. And after such issue tried, for the defendant, or nonsuit of the plaintiff, after appearance, the defendant to recover treble damages, by reason of his wrongful beration in that behalf, with costs also in that part sustained, and that to be assessed by the same jury, or writ to enquire of the damages, as the same shall require. Provided always that this Act shall endure no longer than to the end of the next session of Parliament.\"\n",
    "blob = TextBlob(text)"
   ]
  },
  {
   "cell_type": "code",
   "execution_count": 14,
   "id": "ef1f5c1d-a1b7-424d-968a-b1a261ce06ea",
   "metadata": {},
   "outputs": [
    {
     "ename": "SyntaxError",
     "evalue": "unterminated string literal (detected at line 1) (1396624507.py, line 1)",
     "output_type": "error",
     "traceback": [
      "\u001b[0;36m  Cell \u001b[0;32mIn[14], line 1\u001b[0;36m\u001b[0m\n\u001b[0;31m    text = \"1601: 43 Elizabeth 1 c.2: An Act for the Relief of the Poor\u001b[0m\n\u001b[0m           ^\u001b[0m\n\u001b[0;31mSyntaxError\u001b[0m\u001b[0;31m:\u001b[0m unterminated string literal (detected at line 1)\n"
     ]
    }
   ],
   "source": [
    "text = \"1601: 43 Elizabeth 1 c.2: An Act for the Relief of the Poor\n",
    "Be it enacted by the authority of this present parliament, that the churchwardens of every Parish, and four, three or two substantial householders there, as shall be thought meet, having respect to the proportion and greatness of the same Parish and Parishes to be nominated yearly in Easter week, or within one month after Easter, under the hand and seal of two or more Justices of the Peace in the same County, whereof one to be of the Quorum, dwelling in or near same Parish of division where the same parish doth lie, shall be called Overseers of the poor of the same Parish, and they, or the greater part of them shall take order from time to time, by and with the consent of two or more Justices of Peace, as is aforesaid, for setting to work of the children whose parents shall not by the said Churchwardens, and Overseers, or the greater part of them, be thought able to keep and maintain their children. And also for setting to work all such persons married or unmarried, having no means to maintain them, or no ordinary and daily trade of life to get their living by, and also to raise weekly or otherwise (by taxation of every Inhabitant, Parson, Vicar, and other, and of every occupier of Lands, Houses, Tithes impropriate, or Propriations of Tithes, Coalmines, or saleable underwoods in the said Parish, in such competent sum and sums of money as they think fit) a convenient stock of Flax, Hemp, Wool, Thread, iron, and other necessary ware and stuff to set the poor on work, and also competent sums of money, for, and towards the necessary relief of the lame, impotent, old, blind, and such other among them being poor, and not able to work, and also for the putting out of such children to be apprentices, to be gathered out of the same Parish, according to the ability of the same parish, and to do and execute all other things, as well for the disposing of the said stock, as otherwise concerning the premises, as to them shall seem convenient.\"\n",
    "blob = TextBlob(text)\n",
    "polarity_list = []\n",
    "Subjectivity_list = []\n",
    "for sentence in blob.sentences:\n",
    "    sentiment = sentence.sentiment\n",
    "    polarity_list.append(sentiment.polarity)\n",
    "    subjectivity_list.append(sentiment.subjectivity)"
   ]
  },
  {
   "cell_type": "code",
   "execution_count": null,
   "id": "05b1d05c-c5a0-45b4-9399-27600cb823b1",
   "metadata": {},
   "outputs": [],
   "source": []
  },
  {
   "cell_type": "code",
   "execution_count": 21,
   "id": "ebabd841-42c6-4c0e-8790-4471d41fc405",
   "metadata": {},
   "outputs": [
    {
     "ename": "SyntaxError",
     "evalue": "incomplete input (1369670591.py, line 7)",
     "output_type": "error",
     "traceback": [
      "\u001b[0;36m  Cell \u001b[0;32mIn[21], line 7\u001b[0;36m\u001b[0m\n\u001b[0;31m    print (\"Sentiment:\", sentiment\u001b[0m\n\u001b[0m                                  ^\u001b[0m\n\u001b[0;31mSyntaxError\u001b[0m\u001b[0;31m:\u001b[0m incomplete input\n"
     ]
    }
   ],
   "source": [
    "text = \"\"\"1601: 43 Elizabeth 1 c.2: An Act for the Relief of the Poor\n",
    "Be it enacted by the authority of this present parliament, that the churchwardens of every Parish, and four, three or two substantial householders there, as shall be thought meet, having respect to the proportion and greatness of the same Parish and Parishes to be nominated yearly in Easter week, or within one month after Easter, under the hand and seal of two or more Justices of the Peace in the same County, whereof one to be of the Quorum, dwelling in or near same Parish of division where the same parish doth lie, shall be called Overseers of the poor of the same Parish, and they, or the greater part of them shall take order from time to time, by and with the consent of two or more Justices of Peace, as is aforesaid, for setting to work of the children whose parents shall not by the said Churchwardens, and Overseers, or the greater part of them, be thought able to keep and maintain their children. And also for setting to work all such persons married or unmarried, having no means to maintain them, or no ordinary and daily trade of life to get their living by, and also to raise weekly or otherwise (by taxation of every Inhabitant, Parson, Vicar, and other, and of every occupier of Lands, Houses, Tithes impropriate, or Propriations of Tithes, Coalmines, or saleable underwoods in the said Parish, in such competent sum and sums of money as they think fit) a convenient stock of Flax, Hemp, Wool, Thread, iron, and other necessary ware and stuff to set the poor on work, and also competent sums of money, for, and towards the necessary relief of the lame, impotent, old, blind, and such other among them being poor, and not able to work, and also for the putting out of such children to be apprentices, to be gathered out of the same Parish, according to the ability of the same parish, and to do and execute all other things, as well for the disposing of the said stock, as otherwise concerning the premises, as to them shall seem convenient.\"\"\"\n",
    "\n",
    "blob = TextBlob (text)\n",
    "\n",
    "sentiment = blob.sentiment\n",
    "print (\"Sentiment:\", sentiment"
   ]
  },
  {
   "cell_type": "code",
   "execution_count": null,
   "id": "82a11d5c-818b-48d6-9a41-a47bcaab81cb",
   "metadata": {},
   "outputs": [],
   "source": []
  },
  {
   "cell_type": "code",
   "execution_count": 23,
   "id": "4b7d204d-b47c-4245-b2a9-fef73e53d09a",
   "metadata": {},
   "outputs": [
    {
     "name": "stdout",
     "output_type": "stream",
     "text": [
      "Sentiment: Sentiment(polarity=0.029605263157894735, subjectivity=0.4348684210526315)\n"
     ]
    }
   ],
   "source": [
    "text = \"\"\"1601: 43 Elizabeth 1 c.2: An Act for the Relief of the Poor\n",
    "Be it enacted by the authority of this present parliament, that the churchwardens of every Parish, and four, three or two substantial householders there, as shall be thought meet, having respect to the proportion and greatness of the same Parish and Parishes to be nominated yearly in Easter week, or within one month after Easter, under the hand and seal of two or more Justices of the Peace in the same County, whereof one to be of the Quorum, dwelling in or near same Parish of division where the same parish doth lie, shall be called Overseers of the poor of the same Parish, and they, or the greater part of them shall take order from time to time, by and with the consent of two or more Justices of Peace, as is aforesaid, for setting to work of the children whose parents shall not by the said Churchwardens, and Overseers, or the greater part of them, be thought able to keep and maintain their children. And also for setting to work all such persons married or unmarried, having no means to maintain them, or no ordinary and daily trade of life to get their living by, and also to raise weekly or otherwise (by taxation of every Inhabitant, Parson, Vicar, and other, and of every occupier of Lands, Houses, Tithes impropriate, or Propriations of Tithes, Coalmines, or saleable underwoods in the said Parish, in such competent sum and sums of money as they think fit) a convenient stock of Flax, Hemp, Wool, Thread, iron, and other necessary ware and stuff to set the poor on work, and also competent sums of money, for, and towards the necessary relief of the lame, impotent, old, blind, and such other among them being poor, and not able to work, and also for the putting out of such children to be apprentices, to be gathered out of the same Parish, according to the ability of the same parish, and to do and execute all other things, as well for the disposing of the said stock, as otherwise concerning the premises, as to them shall seem convenient.\"\"\"\n",
    "\n",
    "blob = TextBlob(text)\n",
    "\n",
    "sentiment = blob.sentiment\n",
    "print(\"Sentiment:\", sentiment)"
   ]
  },
  {
   "cell_type": "code",
   "execution_count": 25,
   "id": "0f62c0de-5060-4b0b-b7d5-aad4746912b6",
   "metadata": {},
   "outputs": [
    {
     "name": "stdout",
     "output_type": "stream",
     "text": [
      "Sentiment: Sentiment(polarity=0.029605263157894735, subjectivity=0.4348684210526315)\n"
     ]
    }
   ],
   "source": [
    "text = \"\"\"1601: 43 Elizabeth 1 c.2: An Act for the Relief of the Poor\n",
    "Be it enacted by the authority of this present parliament, that the churchwardens of every Parish, and four, three or two substantial householders there, as shall be thought meet, having respect to the proportion and greatness of the same Parish and Parishes to be nominated yearly in Easter week, or within one month after Easter, under the hand and seal of two or more Justices of the Peace in the same County, whereof one to be of the Quorum, dwelling in or near same Parish of division where the same parish doth lie, shall be called Overseers of the poor of the same Parish, and they, or the greater part of them shall take order from time to time, by and with the consent of two or more Justices of Peace, as is aforesaid, for setting to work of the children whose parents shall not by the said Churchwardens, and Overseers, or the greater part of them, be thought able to keep and maintain their children. And also for setting to work all such persons married or unmarried, having no means to maintain them, or no ordinary and daily trade of life to get their living by, and also to raise weekly or otherwise (by taxation of every Inhabitant, Parson, Vicar, and other, and of every occupier of Lands, Houses, Tithes impropriate, or Propriations of Tithes, Coalmines, or saleable underwoods in the said Parish, in such competent sum and sums of money as they think fit) a convenient stock of Flax, Hemp, Wool, Thread, iron, and other necessary ware and stuff to set the poor on work, and also competent sums of money, for, and towards the necessary relief of the lame, impotent, old, blind, and such other among them being poor, and not able to work, and also for the putting out of such children to be apprentices, to be gathered out of the same Parish, according to the ability of the same parish, and to do and execute all other things, as well for the disposing of the said stock, as otherwise concerning the premises, as to them shall seem convenient.\"\"\"\n",
    "\n",
    "blob = TextBlob(text)\n",
    "\n",
    "sentiment = blob.sentiment\n",
    "print(\"Sentiment:\", sentiment)"
   ]
  },
  {
   "cell_type": "code",
   "execution_count": 16,
   "id": "37763865-dd46-4945-a840-f35f6995843c",
   "metadata": {},
   "outputs": [
    {
     "name": "stdout",
     "output_type": "stream",
     "text": [
      "\n",
      "**********************************************************************\n",
      "  Resource \u001b[93mpunkt\u001b[0m not found.\n",
      "  Please use the NLTK Downloader to obtain the resource:\n",
      "\n",
      "  \u001b[31m>>> import nltk\n",
      "  >>> nltk.download('punkt')\n",
      "  \u001b[0m\n",
      "  For more information see: https://www.nltk.org/data.html\n",
      "\n",
      "  Attempted to load \u001b[93mtokenizers/punkt/PY3/english.pickle\u001b[0m\n",
      "\n",
      "  Searched in:\n",
      "    - '/home/5b3b8f00-0889-4308-ab78-3f288909aa20/nltk_data'\n",
      "    - '/opt/conda/envs/anaconda-panel-2023.05-py310/nltk_data'\n",
      "    - '/opt/conda/envs/anaconda-panel-2023.05-py310/share/nltk_data'\n",
      "    - '/opt/conda/envs/anaconda-panel-2023.05-py310/lib/nltk_data'\n",
      "    - '/usr/share/nltk_data'\n",
      "    - '/usr/local/share/nltk_data'\n",
      "    - '/usr/lib/nltk_data'\n",
      "    - '/usr/local/lib/nltk_data'\n",
      "    - ''\n",
      "**********************************************************************\n",
      "\n"
     ]
    },
    {
     "ename": "MissingCorpusError",
     "evalue": "\nLooks like you are missing some required data for this feature.\n\nTo download the necessary data, simply run\n\n    python -m textblob.download_corpora\n\nor use the NLTK downloader to download the missing data: http://nltk.org/data.html\nIf this doesn't fix the problem, file an issue at https://github.com/sloria/TextBlob/issues.\n",
     "output_type": "error",
     "traceback": [
      "\u001b[0;31m---------------------------------------------------------------------------\u001b[0m",
      "\u001b[0;31mLookupError\u001b[0m                               Traceback (most recent call last)",
      "File \u001b[0;32m~/.local/lib/python3.11/site-packages/textblob/decorators.py:35\u001b[0m, in \u001b[0;36mrequires_nltk_corpus.<locals>.decorated\u001b[0;34m(*args, **kwargs)\u001b[0m\n\u001b[1;32m     34\u001b[0m \u001b[38;5;28;01mtry\u001b[39;00m:\n\u001b[0;32m---> 35\u001b[0m     \u001b[38;5;28;01mreturn\u001b[39;00m func(\u001b[38;5;241m*\u001b[39margs, \u001b[38;5;241m*\u001b[39m\u001b[38;5;241m*\u001b[39mkwargs)\n\u001b[1;32m     36\u001b[0m \u001b[38;5;28;01mexcept\u001b[39;00m \u001b[38;5;167;01mLookupError\u001b[39;00m \u001b[38;5;28;01mas\u001b[39;00m err:\n",
      "File \u001b[0;32m~/.local/lib/python3.11/site-packages/textblob/tokenizers.py:57\u001b[0m, in \u001b[0;36mSentenceTokenizer.tokenize\u001b[0;34m(self, text)\u001b[0m\n\u001b[1;32m     56\u001b[0m \u001b[38;5;250m\u001b[39m\u001b[38;5;124;03m'''Return a list of sentences.'''\u001b[39;00m\n\u001b[0;32m---> 57\u001b[0m \u001b[38;5;28;01mreturn\u001b[39;00m nltk\u001b[38;5;241m.\u001b[39mtokenize\u001b[38;5;241m.\u001b[39msent_tokenize(text)\n",
      "File \u001b[0;32m/opt/conda/envs/anaconda-panel-2023.05-py310/lib/python3.11/site-packages/nltk/tokenize/__init__.py:106\u001b[0m, in \u001b[0;36msent_tokenize\u001b[0;34m(text, language)\u001b[0m\n\u001b[1;32m     97\u001b[0m \u001b[38;5;250m\u001b[39m\u001b[38;5;124;03m\"\"\"\u001b[39;00m\n\u001b[1;32m     98\u001b[0m \u001b[38;5;124;03mReturn a sentence-tokenized copy of *text*,\u001b[39;00m\n\u001b[1;32m     99\u001b[0m \u001b[38;5;124;03musing NLTK's recommended sentence tokenizer\u001b[39;00m\n\u001b[0;32m   (...)\u001b[0m\n\u001b[1;32m    104\u001b[0m \u001b[38;5;124;03m:param language: the model name in the Punkt corpus\u001b[39;00m\n\u001b[1;32m    105\u001b[0m \u001b[38;5;124;03m\"\"\"\u001b[39;00m\n\u001b[0;32m--> 106\u001b[0m tokenizer \u001b[38;5;241m=\u001b[39m load(\u001b[38;5;124mf\u001b[39m\u001b[38;5;124m\"\u001b[39m\u001b[38;5;124mtokenizers/punkt/\u001b[39m\u001b[38;5;132;01m{\u001b[39;00mlanguage\u001b[38;5;132;01m}\u001b[39;00m\u001b[38;5;124m.pickle\u001b[39m\u001b[38;5;124m\"\u001b[39m)\n\u001b[1;32m    107\u001b[0m \u001b[38;5;28;01mreturn\u001b[39;00m tokenizer\u001b[38;5;241m.\u001b[39mtokenize(text)\n",
      "File \u001b[0;32m/opt/conda/envs/anaconda-panel-2023.05-py310/lib/python3.11/site-packages/nltk/data.py:750\u001b[0m, in \u001b[0;36mload\u001b[0;34m(resource_url, format, cache, verbose, logic_parser, fstruct_reader, encoding)\u001b[0m\n\u001b[1;32m    749\u001b[0m \u001b[38;5;66;03m# Load the resource.\u001b[39;00m\n\u001b[0;32m--> 750\u001b[0m opened_resource \u001b[38;5;241m=\u001b[39m _open(resource_url)\n\u001b[1;32m    752\u001b[0m \u001b[38;5;28;01mif\u001b[39;00m \u001b[38;5;28mformat\u001b[39m \u001b[38;5;241m==\u001b[39m \u001b[38;5;124m\"\u001b[39m\u001b[38;5;124mraw\u001b[39m\u001b[38;5;124m\"\u001b[39m:\n",
      "File \u001b[0;32m/opt/conda/envs/anaconda-panel-2023.05-py310/lib/python3.11/site-packages/nltk/data.py:876\u001b[0m, in \u001b[0;36m_open\u001b[0;34m(resource_url)\u001b[0m\n\u001b[1;32m    875\u001b[0m \u001b[38;5;28;01mif\u001b[39;00m protocol \u001b[38;5;129;01mis\u001b[39;00m \u001b[38;5;28;01mNone\u001b[39;00m \u001b[38;5;129;01mor\u001b[39;00m protocol\u001b[38;5;241m.\u001b[39mlower() \u001b[38;5;241m==\u001b[39m \u001b[38;5;124m\"\u001b[39m\u001b[38;5;124mnltk\u001b[39m\u001b[38;5;124m\"\u001b[39m:\n\u001b[0;32m--> 876\u001b[0m     \u001b[38;5;28;01mreturn\u001b[39;00m find(path_, path \u001b[38;5;241m+\u001b[39m [\u001b[38;5;124m\"\u001b[39m\u001b[38;5;124m\"\u001b[39m])\u001b[38;5;241m.\u001b[39mopen()\n\u001b[1;32m    877\u001b[0m \u001b[38;5;28;01melif\u001b[39;00m protocol\u001b[38;5;241m.\u001b[39mlower() \u001b[38;5;241m==\u001b[39m \u001b[38;5;124m\"\u001b[39m\u001b[38;5;124mfile\u001b[39m\u001b[38;5;124m\"\u001b[39m:\n\u001b[1;32m    878\u001b[0m     \u001b[38;5;66;03m# urllib might not use mode='rb', so handle this one ourselves:\u001b[39;00m\n",
      "File \u001b[0;32m/opt/conda/envs/anaconda-panel-2023.05-py310/lib/python3.11/site-packages/nltk/data.py:583\u001b[0m, in \u001b[0;36mfind\u001b[0;34m(resource_name, paths)\u001b[0m\n\u001b[1;32m    582\u001b[0m resource_not_found \u001b[38;5;241m=\u001b[39m \u001b[38;5;124mf\u001b[39m\u001b[38;5;124m\"\u001b[39m\u001b[38;5;130;01m\\n\u001b[39;00m\u001b[38;5;132;01m{\u001b[39;00msep\u001b[38;5;132;01m}\u001b[39;00m\u001b[38;5;130;01m\\n\u001b[39;00m\u001b[38;5;132;01m{\u001b[39;00mmsg\u001b[38;5;132;01m}\u001b[39;00m\u001b[38;5;130;01m\\n\u001b[39;00m\u001b[38;5;132;01m{\u001b[39;00msep\u001b[38;5;132;01m}\u001b[39;00m\u001b[38;5;130;01m\\n\u001b[39;00m\u001b[38;5;124m\"\u001b[39m\n\u001b[0;32m--> 583\u001b[0m \u001b[38;5;28;01mraise\u001b[39;00m \u001b[38;5;167;01mLookupError\u001b[39;00m(resource_not_found)\n",
      "\u001b[0;31mLookupError\u001b[0m: \n**********************************************************************\n  Resource \u001b[93mpunkt\u001b[0m not found.\n  Please use the NLTK Downloader to obtain the resource:\n\n  \u001b[31m>>> import nltk\n  >>> nltk.download('punkt')\n  \u001b[0m\n  For more information see: https://www.nltk.org/data.html\n\n  Attempted to load \u001b[93mtokenizers/punkt/PY3/english.pickle\u001b[0m\n\n  Searched in:\n    - '/home/5b3b8f00-0889-4308-ab78-3f288909aa20/nltk_data'\n    - '/opt/conda/envs/anaconda-panel-2023.05-py310/nltk_data'\n    - '/opt/conda/envs/anaconda-panel-2023.05-py310/share/nltk_data'\n    - '/opt/conda/envs/anaconda-panel-2023.05-py310/lib/nltk_data'\n    - '/usr/share/nltk_data'\n    - '/usr/local/share/nltk_data'\n    - '/usr/lib/nltk_data'\n    - '/usr/local/lib/nltk_data'\n    - ''\n**********************************************************************\n",
      "\nDuring handling of the above exception, another exception occurred:\n",
      "\u001b[0;31mMissingCorpusError\u001b[0m                        Traceback (most recent call last)",
      "Cell \u001b[0;32mIn[16], line 6\u001b[0m\n\u001b[1;32m      4\u001b[0m polarity_list \u001b[38;5;241m=\u001b[39m []\n\u001b[1;32m      5\u001b[0m subjectivity_list \u001b[38;5;241m=\u001b[39m []\n\u001b[0;32m----> 6\u001b[0m \u001b[38;5;28;01mfor\u001b[39;00m sentence \u001b[38;5;129;01min\u001b[39;00m blob\u001b[38;5;241m.\u001b[39msentences:\n\u001b[1;32m      7\u001b[0m     sentiment \u001b[38;5;241m=\u001b[39m sentence\u001b[38;5;241m.\u001b[39msentiment\n\u001b[1;32m      8\u001b[0m     polarity_list\u001b[38;5;241m.\u001b[39mappend(sentiment\u001b[38;5;241m.\u001b[39mpolarity)\n",
      "File \u001b[0;32m~/.local/lib/python3.11/site-packages/textblob/decorators.py:24\u001b[0m, in \u001b[0;36mcached_property.__get__\u001b[0;34m(self, obj, cls)\u001b[0m\n\u001b[1;32m     22\u001b[0m \u001b[38;5;28;01mif\u001b[39;00m obj \u001b[38;5;129;01mis\u001b[39;00m \u001b[38;5;28;01mNone\u001b[39;00m:\n\u001b[1;32m     23\u001b[0m     \u001b[38;5;28;01mreturn\u001b[39;00m \u001b[38;5;28mself\u001b[39m\n\u001b[0;32m---> 24\u001b[0m value \u001b[38;5;241m=\u001b[39m obj\u001b[38;5;241m.\u001b[39m\u001b[38;5;18m__dict__\u001b[39m[\u001b[38;5;28mself\u001b[39m\u001b[38;5;241m.\u001b[39mfunc\u001b[38;5;241m.\u001b[39m\u001b[38;5;18m__name__\u001b[39m] \u001b[38;5;241m=\u001b[39m \u001b[38;5;28mself\u001b[39m\u001b[38;5;241m.\u001b[39mfunc(obj)\n\u001b[1;32m     25\u001b[0m \u001b[38;5;28;01mreturn\u001b[39;00m value\n",
      "File \u001b[0;32m~/.local/lib/python3.11/site-packages/textblob/blob.py:668\u001b[0m, in \u001b[0;36mTextBlob.sentences\u001b[0;34m(self)\u001b[0m\n\u001b[1;32m    665\u001b[0m \u001b[38;5;129m@cached_property\u001b[39m\n\u001b[1;32m    666\u001b[0m \u001b[38;5;28;01mdef\u001b[39;00m \u001b[38;5;21msentences\u001b[39m(\u001b[38;5;28mself\u001b[39m):\n\u001b[1;32m    667\u001b[0m \u001b[38;5;250m    \u001b[39m\u001b[38;5;124;03m\"\"\"Return list of :class:`Sentence <Sentence>` objects.\"\"\"\u001b[39;00m\n\u001b[0;32m--> 668\u001b[0m     \u001b[38;5;28;01mreturn\u001b[39;00m \u001b[38;5;28mself\u001b[39m\u001b[38;5;241m.\u001b[39m_create_sentence_objects()\n",
      "File \u001b[0;32m~/.local/lib/python3.11/site-packages/textblob/blob.py:712\u001b[0m, in \u001b[0;36mTextBlob._create_sentence_objects\u001b[0;34m(self)\u001b[0m\n\u001b[1;32m    709\u001b[0m \u001b[38;5;250m\u001b[39m\u001b[38;5;124;03m'''Returns a list of Sentence objects from the raw text.\u001b[39;00m\n\u001b[1;32m    710\u001b[0m \u001b[38;5;124;03m'''\u001b[39;00m\n\u001b[1;32m    711\u001b[0m sentence_objects \u001b[38;5;241m=\u001b[39m []\n\u001b[0;32m--> 712\u001b[0m sentences \u001b[38;5;241m=\u001b[39m sent_tokenize(\u001b[38;5;28mself\u001b[39m\u001b[38;5;241m.\u001b[39mraw)\n\u001b[1;32m    713\u001b[0m char_index \u001b[38;5;241m=\u001b[39m \u001b[38;5;241m0\u001b[39m  \u001b[38;5;66;03m# Keeps track of character index within the blob\u001b[39;00m\n\u001b[1;32m    714\u001b[0m \u001b[38;5;28;01mfor\u001b[39;00m sent \u001b[38;5;129;01min\u001b[39;00m sentences:\n\u001b[1;32m    715\u001b[0m     \u001b[38;5;66;03m# Compute the start and end indices of the sentence\u001b[39;00m\n\u001b[1;32m    716\u001b[0m     \u001b[38;5;66;03m# within the blob\u001b[39;00m\n",
      "File \u001b[0;32m~/.local/lib/python3.11/site-packages/textblob/base.py:64\u001b[0m, in \u001b[0;36mBaseTokenizer.itokenize\u001b[0;34m(self, text, *args, **kwargs)\u001b[0m\n\u001b[1;32m     57\u001b[0m \u001b[38;5;28;01mdef\u001b[39;00m \u001b[38;5;21mitokenize\u001b[39m(\u001b[38;5;28mself\u001b[39m, text, \u001b[38;5;241m*\u001b[39margs, \u001b[38;5;241m*\u001b[39m\u001b[38;5;241m*\u001b[39mkwargs):\n\u001b[1;32m     58\u001b[0m \u001b[38;5;250m    \u001b[39m\u001b[38;5;124;03m\"\"\"Return a generator that generates tokens \"on-demand\".\u001b[39;00m\n\u001b[1;32m     59\u001b[0m \n\u001b[1;32m     60\u001b[0m \u001b[38;5;124;03m    .. versionadded:: 0.6.0\u001b[39;00m\n\u001b[1;32m     61\u001b[0m \n\u001b[1;32m     62\u001b[0m \u001b[38;5;124;03m    :rtype: generator\u001b[39;00m\n\u001b[1;32m     63\u001b[0m \u001b[38;5;124;03m    \"\"\"\u001b[39;00m\n\u001b[0;32m---> 64\u001b[0m     \u001b[38;5;28;01mreturn\u001b[39;00m (t \u001b[38;5;28;01mfor\u001b[39;00m t \u001b[38;5;129;01min\u001b[39;00m \u001b[38;5;28mself\u001b[39m\u001b[38;5;241m.\u001b[39mtokenize(text, \u001b[38;5;241m*\u001b[39margs, \u001b[38;5;241m*\u001b[39m\u001b[38;5;241m*\u001b[39mkwargs))\n",
      "File \u001b[0;32m~/.local/lib/python3.11/site-packages/textblob/decorators.py:38\u001b[0m, in \u001b[0;36mrequires_nltk_corpus.<locals>.decorated\u001b[0;34m(*args, **kwargs)\u001b[0m\n\u001b[1;32m     36\u001b[0m \u001b[38;5;28;01mexcept\u001b[39;00m \u001b[38;5;167;01mLookupError\u001b[39;00m \u001b[38;5;28;01mas\u001b[39;00m err:\n\u001b[1;32m     37\u001b[0m     \u001b[38;5;28mprint\u001b[39m(err)\n\u001b[0;32m---> 38\u001b[0m     \u001b[38;5;28;01mraise\u001b[39;00m MissingCorpusError()\n",
      "\u001b[0;31mMissingCorpusError\u001b[0m: \nLooks like you are missing some required data for this feature.\n\nTo download the necessary data, simply run\n\n    python -m textblob.download_corpora\n\nor use the NLTK downloader to download the missing data: http://nltk.org/data.html\nIf this doesn't fix the problem, file an issue at https://github.com/sloria/TextBlob/issues.\n"
     ]
    }
   ],
   "source": [
    "text = \"\"\"1601: 43 Elizabeth 1 c.2: An Act for the Relief of the Poor\n",
    "Be it enacted by the authority of this present parliament, that the churchwardens of every Parish, and four, three or two substantial householders there, as shall be thought meet, having respect to the proportion and greatness of the same Parish and Parishes to be nominated yearly in Easter week, or within one month after Easter, under the hand and seal of two or more Justices of the Peace in the same County, whereof one to be of the Quorum, dwelling in or near same Parish of division where the same parish doth lie, shall be called Overseers of the poor of the same Parish, and they, or the greater part of them shall take order from time to time, by and with the consent of two or more Justices of Peace, as is aforesaid, for setting to work of the children whose parents shall not by the said Churchwardens, and Overseers, or the greater part of them, be thought able to keep and maintain their children. And also for setting to work all such persons married or unmarried, having no means to maintain them, or no ordinary and daily trade of life to get their living by, and also to raise weekly or otherwise (by taxation of every Inhabitant, Parson, Vicar, and other, and of every occupier of Lands, Houses, Tithes impropriate, or Propriations of Tithes, Coalmines, or saleable underwoods in the said Parish, in such competent sum and sums of money as they think fit) a convenient stock of Flax, Hemp, Wool, Thread, iron, and other necessary ware and stuff to set the poor on work, and also competent sums of money, for, and towards the necessary relief of the lame, impotent, old, blind, and such other among them being poor, and not able to work, and also for the putting out of such children to be apprentices, to be gathered out of the same Parish, according to the ability of the same parish, and to do and execute all other things, as well for the disposing of the said stock, as otherwise concerning the premises, as to them shall seem convenient.\"\"\"\n",
    "blob = TextBlob(text)\n",
    "polarity_list = []\n",
    "subjectivity_list = []\n",
    "for sentence in blob.sentences:\n",
    "    sentiment = sentence.sentiment\n",
    "    polarity_list.append(sentiment.polarity)\n",
    "    subjectivity_list.append(sentiment.subjectivity)"
   ]
  },
  {
   "cell_type": "code",
   "execution_count": 18,
   "id": "899f1d86-08a7-4a8b-9562-a1d7b304342d",
   "metadata": {},
   "outputs": [
    {
     "ename": "SyntaxError",
     "evalue": "invalid syntax (2621292756.py, line 1)",
     "output_type": "error",
     "traceback": [
      "\u001b[0;36m  Cell \u001b[0;32mIn[18], line 1\u001b[0;36m\u001b[0m\n\u001b[0;31m    python -m textblob.download_corpora\u001b[0m\n\u001b[0m              ^\u001b[0m\n\u001b[0;31mSyntaxError\u001b[0m\u001b[0;31m:\u001b[0m invalid syntax\n"
     ]
    }
   ],
   "source": [
    "python -m textblob.download_corpora"
   ]
  },
  {
   "cell_type": "code",
   "execution_count": 30,
   "id": "5eb907b4-8bc5-459a-9a95-51769d0988dc",
   "metadata": {},
   "outputs": [],
   "source": [
    "text = \"\"\"1601: 43 Elizabeth 1 c.2: An Act for the Relief of the Poor\n",
    "Be it enacted by the authority of this present parliament, that the churchwardens of every Parish, and four, three or two substantial householders there, as shall be thought meet, having respect to the proportion and greatness of the same Parish and Parishes to be nominated yearly in Easter week, or within one month after Easter, under the hand and seal of two or more Justices of the Peace in the same County, whereof one to be of the Quorum, dwelling in or near same Parish of division where the same parish doth lie, shall be called Overseers of the poor of the same Parish, and they, or the greater part of them shall take order from time to time, by and with the consent of two or more Justices of Peace, as is aforesaid, for setting to work of the children whose parents shall not by the said Churchwardens, and Overseers, or the greater part of them, be thought able to keep and maintain their children. And also for setting to work all such persons married or unmarried, having no means to maintain them, or no ordinary and daily trade of life to get their living by, and also to raise weekly or otherwise (by taxation of every Inhabitant, Parson, Vicar, and other, and of every occupier of Lands, Houses, Tithes impropriate, or Propriations of Tithes, Coalmines, or saleable underwoods in the said Parish, in such competent sum and sums of money as they think fit) a convenient stock of Flax, Hemp, Wool, Thread, iron, and other necessary ware and stuff to set the poor on work, and also competent sums of money, for, and towards the necessary relief of the lame, impotent, old, blind, and such other among them being poor, and not able to work, and also for the putting out of such children to be apprentices, to be gathered out of the same Parish, according to the ability of the same parish, and to do and execute all other things, as well for the disposing of the said stock, as otherwise concerning the premises, as to them shall seem convenient.\"\"\"\n",
    "blob = TextBlob(text)"
   ]
  },
  {
   "cell_type": "code",
   "execution_count": 32,
   "id": "bd7545e3-a0fd-46d4-ba31-4e0d7f0a98d9",
   "metadata": {},
   "outputs": [
    {
     "name": "stdout",
     "output_type": "stream",
     "text": [
      "Sentiment: Sentiment(polarity=0.029605263157894735, subjectivity=0.4348684210526315)\n"
     ]
    }
   ],
   "source": [
    "sentiment = blob.sentiment\n",
    "print(\"Sentiment:\", sentiment)"
   ]
  },
  {
   "cell_type": "code",
   "execution_count": 34,
   "id": "a9ce4039-67f0-4c5a-be0f-d096fecf75b2",
   "metadata": {},
   "outputs": [
    {
     "ename": "ModuleNotFoundError",
     "evalue": "No module named 'wordcloud'",
     "output_type": "error",
     "traceback": [
      "\u001b[0;31m---------------------------------------------------------------------------\u001b[0m",
      "\u001b[0;31mModuleNotFoundError\u001b[0m                       Traceback (most recent call last)",
      "Cell \u001b[0;32mIn[34], line 1\u001b[0m\n\u001b[0;32m----> 1\u001b[0m \u001b[38;5;28;01mfrom\u001b[39;00m \u001b[38;5;21;01mwordcloud\u001b[39;00m \u001b[38;5;28;01mimport\u001b[39;00m WordCloud\n\u001b[1;32m      2\u001b[0m \u001b[38;5;28;01mimport\u001b[39;00m \u001b[38;5;21;01mmatplotlib\u001b[39;00m\u001b[38;5;21;01m.\u001b[39;00m\u001b[38;5;21;01mpyplot\u001b[39;00m \u001b[38;5;28;01mas\u001b[39;00m \u001b[38;5;21;01mplt\u001b[39;00m\n",
      "\u001b[0;31mModuleNotFoundError\u001b[0m: No module named 'wordcloud'"
     ]
    }
   ],
   "source": [
    "from wordcloud import WordCloud\n",
    "import matplotlib.pyplot as plt"
   ]
  },
  {
   "cell_type": "code",
   "execution_count": 37,
   "id": "75904065-2109-4e08-a368-72508627b4be",
   "metadata": {},
   "outputs": [
    {
     "ename": "ModuleNotFoundError",
     "evalue": "No module named 'wordcloud'",
     "output_type": "error",
     "traceback": [
      "\u001b[0;31m---------------------------------------------------------------------------\u001b[0m",
      "\u001b[0;31mModuleNotFoundError\u001b[0m                       Traceback (most recent call last)",
      "Cell \u001b[0;32mIn[37], line 1\u001b[0m\n\u001b[0;32m----> 1\u001b[0m \u001b[38;5;28;01mfrom\u001b[39;00m \u001b[38;5;21;01mwordcloud\u001b[39;00m \u001b[38;5;28;01mimport\u001b[39;00m WordCloud\n\u001b[1;32m      2\u001b[0m \u001b[38;5;28;01mimport\u001b[39;00m \u001b[38;5;21;01mmatplotlib\u001b[39;00m\u001b[38;5;21;01m.\u001b[39;00m\u001b[38;5;21;01mpyplot\u001b[39;00m \u001b[38;5;28;01mas\u001b[39;00m \u001b[38;5;21;01mplt\u001b[39;00m\n",
      "\u001b[0;31mModuleNotFoundError\u001b[0m: No module named 'wordcloud'"
     ]
    }
   ],
   "source": [
    "from wordcloud import WordCloud\n",
    "import matplotlib.pyplot as plt"
   ]
  },
  {
   "cell_type": "code",
   "execution_count": 3,
   "id": "13e30fb5-b3f2-4280-bd57-4c098d318785",
   "metadata": {},
   "outputs": [
    {
     "ename": "ModuleNotFoundError",
     "evalue": "No module named 'wordcloud'",
     "output_type": "error",
     "traceback": [
      "\u001b[0;31m---------------------------------------------------------------------------\u001b[0m",
      "\u001b[0;31mModuleNotFoundError\u001b[0m                       Traceback (most recent call last)",
      "Cell \u001b[0;32mIn[3], line 1\u001b[0m\n\u001b[0;32m----> 1\u001b[0m \u001b[38;5;28;01mfrom\u001b[39;00m \u001b[38;5;21;01mwordcloud\u001b[39;00m \u001b[38;5;28;01mimport\u001b[39;00m WordCloud\n\u001b[1;32m      2\u001b[0m \u001b[38;5;28;01mimport\u001b[39;00m \u001b[38;5;21;01mmatplotlib\u001b[39;00m\u001b[38;5;21;01m.\u001b[39;00m\u001b[38;5;21;01mpyplot\u001b[39;00m \u001b[38;5;28;01mas\u001b[39;00m \u001b[38;5;21;01mplt\u001b[39;00m\n",
      "\u001b[0;31mModuleNotFoundError\u001b[0m: No module named 'wordcloud'"
     ]
    }
   ],
   "source": [
    "from wordcloud import WordCloud\n",
    "import matplotlib.pyplot as plt"
   ]
  },
  {
   "cell_type": "code",
   "execution_count": 6,
   "id": "fae09f7f-a325-4639-b100-b1ba596ad3b5",
   "metadata": {},
   "outputs": [
    {
     "name": "stdout",
     "output_type": "stream",
     "text": [
      "Defaulting to user installation because normal site-packages is not writeable\n",
      "Looking in links: /usr/share/pip-wheels\n",
      "Collecting wordcloud\n",
      "  Downloading wordcloud-1.9.2-cp311-cp311-manylinux_2_17_x86_64.manylinux2014_x86_64.whl (473 kB)\n",
      "\u001b[2K     \u001b[38;5;70m━━━━━━━━━━━━━━━━━━━━━━━━━━━━━━━━━━━━━━━\u001b[0m \u001b[32m473.1/473.1 kB\u001b[0m \u001b[31m7.1 MB/s\u001b[0m eta \u001b[36m0:00:00\u001b[0m\u001b[36m0:00:01\u001b[0m\n",
      "\u001b[?25hRequirement already satisfied: numpy>=1.6.1 in /opt/conda/envs/anaconda-panel-2023.05-py310/lib/python3.11/site-packages (from wordcloud) (1.24.3)\n",
      "Requirement already satisfied: pillow in /opt/conda/envs/anaconda-panel-2023.05-py310/lib/python3.11/site-packages (from wordcloud) (9.4.0)\n",
      "Requirement already satisfied: matplotlib in /opt/conda/envs/anaconda-panel-2023.05-py310/lib/python3.11/site-packages (from wordcloud) (3.7.1)\n",
      "Requirement already satisfied: contourpy>=1.0.1 in /opt/conda/envs/anaconda-panel-2023.05-py310/lib/python3.11/site-packages (from matplotlib->wordcloud) (1.0.5)\n",
      "Requirement already satisfied: cycler>=0.10 in /opt/conda/envs/anaconda-panel-2023.05-py310/lib/python3.11/site-packages (from matplotlib->wordcloud) (0.11.0)\n",
      "Requirement already satisfied: fonttools>=4.22.0 in /opt/conda/envs/anaconda-panel-2023.05-py310/lib/python3.11/site-packages (from matplotlib->wordcloud) (4.25.0)\n",
      "Requirement already satisfied: kiwisolver>=1.0.1 in /opt/conda/envs/anaconda-panel-2023.05-py310/lib/python3.11/site-packages (from matplotlib->wordcloud) (1.4.4)\n",
      "Requirement already satisfied: packaging>=20.0 in /opt/conda/envs/anaconda-panel-2023.05-py310/lib/python3.11/site-packages (from matplotlib->wordcloud) (23.0)\n",
      "Requirement already satisfied: pyparsing>=2.3.1 in /opt/conda/envs/anaconda-panel-2023.05-py310/lib/python3.11/site-packages (from matplotlib->wordcloud) (3.0.9)\n",
      "Requirement already satisfied: python-dateutil>=2.7 in /opt/conda/envs/anaconda-panel-2023.05-py310/lib/python3.11/site-packages (from matplotlib->wordcloud) (2.8.2)\n",
      "Requirement already satisfied: six>=1.5 in /opt/conda/envs/anaconda-panel-2023.05-py310/lib/python3.11/site-packages (from python-dateutil>=2.7->matplotlib->wordcloud) (1.16.0)\n",
      "Installing collected packages: wordcloud\n",
      "\u001b[33m  WARNING: The script wordcloud_cli is installed in '/home/5b3b8f00-0889-4308-ab78-3f288909aa20/.local/bin' which is not on PATH.\n",
      "  Consider adding this directory to PATH or, if you prefer to suppress this warning, use --no-warn-script-location.\u001b[0m\u001b[33m\n",
      "\u001b[0mSuccessfully installed wordcloud-1.9.2\n",
      "Note: you may need to restart the kernel to use updated packages.\n"
     ]
    }
   ],
   "source": [
    "pip install wordcloud"
   ]
  },
  {
   "cell_type": "code",
   "execution_count": 8,
   "id": "00b1a42d-17cd-4004-a0d3-768ad6b6d704",
   "metadata": {},
   "outputs": [
    {
     "name": "stderr",
     "output_type": "stream",
     "text": [
      "Matplotlib is building the font cache; this may take a moment.\n"
     ]
    }
   ],
   "source": [
    "from wordcloud import WordCloud\n",
    "import matplotlib.pyplot as plt"
   ]
  },
  {
   "cell_type": "code",
   "execution_count": 12,
   "id": "d5569951-c673-4df4-afce-daf4a36ba285",
   "metadata": {},
   "outputs": [
    {
     "name": "stdout",
     "output_type": "stream",
     "text": [
      "Defaulting to user installation because normal site-packages is not writeable\n",
      "Looking in links: /usr/share/pip-wheels\n",
      "Requirement already satisfied: gensim in /opt/conda/envs/anaconda-panel-2023.05-py310/lib/python3.11/site-packages (4.3.0)\n",
      "Requirement already satisfied: numpy>=1.18.5 in /opt/conda/envs/anaconda-panel-2023.05-py310/lib/python3.11/site-packages (from gensim) (1.24.3)\n",
      "Requirement already satisfied: scipy>=1.7.0 in /opt/conda/envs/anaconda-panel-2023.05-py310/lib/python3.11/site-packages (from gensim) (1.10.1)\n",
      "Requirement already satisfied: smart-open>=1.8.1 in /opt/conda/envs/anaconda-panel-2023.05-py310/lib/python3.11/site-packages (from gensim) (5.2.1)\n",
      "Collecting FuzzyTM>=0.4.0 (from gensim)\n",
      "  Downloading FuzzyTM-2.0.5-py3-none-any.whl (29 kB)\n",
      "Requirement already satisfied: pandas in /opt/conda/envs/anaconda-panel-2023.05-py310/lib/python3.11/site-packages (from FuzzyTM>=0.4.0->gensim) (1.5.3)\n",
      "Collecting pyfume (from FuzzyTM>=0.4.0->gensim)\n",
      "  Downloading pyFUME-0.2.25-py3-none-any.whl (67 kB)\n",
      "\u001b[2K     \u001b[38;5;70m━━━━━━━━━━━━━━━━━━━━━━━━━━━━━━━━━━━━━━━━\u001b[0m \u001b[32m67.1/67.1 kB\u001b[0m \u001b[31m2.0 MB/s\u001b[0m eta \u001b[36m0:00:00\u001b[0m\n",
      "\u001b[?25hRequirement already satisfied: python-dateutil>=2.8.1 in /opt/conda/envs/anaconda-panel-2023.05-py310/lib/python3.11/site-packages (from pandas->FuzzyTM>=0.4.0->gensim) (2.8.2)\n",
      "Requirement already satisfied: pytz>=2020.1 in /opt/conda/envs/anaconda-panel-2023.05-py310/lib/python3.11/site-packages (from pandas->FuzzyTM>=0.4.0->gensim) (2022.7)\n",
      "Collecting simpful (from pyfume->FuzzyTM>=0.4.0->gensim)\n",
      "  Downloading simpful-2.11.0-py3-none-any.whl (32 kB)\n",
      "Collecting fst-pso (from pyfume->FuzzyTM>=0.4.0->gensim)\n",
      "  Downloading fst-pso-1.8.1.tar.gz (18 kB)\n",
      "  Preparing metadata (setup.py) ... \u001b[?25ldone\n",
      "\u001b[?25hRequirement already satisfied: six>=1.5 in /opt/conda/envs/anaconda-panel-2023.05-py310/lib/python3.11/site-packages (from python-dateutil>=2.8.1->pandas->FuzzyTM>=0.4.0->gensim) (1.16.0)\n",
      "Collecting miniful (from fst-pso->pyfume->FuzzyTM>=0.4.0->gensim)\n",
      "  Downloading miniful-0.0.6.tar.gz (2.8 kB)\n",
      "  Preparing metadata (setup.py) ... \u001b[?25ldone\n",
      "\u001b[?25hBuilding wheels for collected packages: fst-pso, miniful\n",
      "  Building wheel for fst-pso (setup.py) ... \u001b[?25ldone\n",
      "\u001b[?25h  Created wheel for fst-pso: filename=fst_pso-1.8.1-py3-none-any.whl size=20430 sha256=bd50058655923c1840062a4943c81958c6c7b38d6fa4fcb9d74e4a5d95462961\n",
      "  Stored in directory: /home/5b3b8f00-0889-4308-ab78-3f288909aa20/.cache/pip/wheels/69/f5/e5/18ad53fe1ed6b2af9fad05ec052e4acbac8e92441df44bad2e\n",
      "  Building wheel for miniful (setup.py) ... \u001b[?25ldone\n",
      "\u001b[?25h  Created wheel for miniful: filename=miniful-0.0.6-py3-none-any.whl size=3513 sha256=8a241e15047e4c752c281327388726349412fd7c353f8c3db31e5d5e2fe7ec7c\n",
      "  Stored in directory: /home/5b3b8f00-0889-4308-ab78-3f288909aa20/.cache/pip/wheels/9d/ff/2f/afe4cd56f47de147407705626517d68bea0f3b74eb1fb168e6\n",
      "Successfully built fst-pso miniful\n",
      "Installing collected packages: simpful, miniful, fst-pso, pyfume, FuzzyTM\n",
      "Successfully installed FuzzyTM-2.0.5 fst-pso-1.8.1 miniful-0.0.6 pyfume-0.2.25 simpful-2.11.0\n"
     ]
    }
   ],
   "source": [
    "! pip install gensim\n"
   ]
  },
  {
   "cell_type": "code",
   "execution_count": 14,
   "id": "3f541a06-3521-4804-bfc7-d5585ffe6ee3",
   "metadata": {},
   "outputs": [],
   "source": [
    "from gensim.corpora import Dictionary\n"
   ]
  },
  {
   "cell_type": "code",
   "execution_count": 16,
   "id": "5c080b6f-fe0c-4358-a2ca-6cafa18bbc81",
   "metadata": {},
   "outputs": [],
   "source": [
    "from nltk.tokenize import word_tokenize\n",
    "from nltk.corpus import stopwords\n",
    "from nltk.stem import WordNetLemmatizer\n",
    "from gensim.corpora import Dictionary"
   ]
  },
  {
   "cell_type": "code",
   "execution_count": 18,
   "id": "46d88f44-3493-48f3-acc9-290c14cf6ef1",
   "metadata": {},
   "outputs": [
    {
     "name": "stdout",
     "output_type": "stream",
     "text": [
      "Defaulting to user installation because normal site-packages is not writeable\n",
      "Looking in links: /usr/share/pip-wheels\n",
      "Requirement already satisfied: nltk in /opt/conda/envs/anaconda-panel-2023.05-py310/lib/python3.11/site-packages (3.8.1)\n",
      "Requirement already satisfied: click in /opt/conda/envs/anaconda-panel-2023.05-py310/lib/python3.11/site-packages (from nltk) (8.0.4)\n",
      "Requirement already satisfied: joblib in /opt/conda/envs/anaconda-panel-2023.05-py310/lib/python3.11/site-packages (from nltk) (1.2.0)\n",
      "Requirement already satisfied: regex>=2021.8.3 in /opt/conda/envs/anaconda-panel-2023.05-py310/lib/python3.11/site-packages (from nltk) (2022.7.9)\n",
      "Requirement already satisfied: tqdm in /opt/conda/envs/anaconda-panel-2023.05-py310/lib/python3.11/site-packages (from nltk) (4.65.0)\n"
     ]
    }
   ],
   "source": [
    "!pip install nltk\n"
   ]
  },
  {
   "cell_type": "code",
   "execution_count": 20,
   "id": "b6204a9d-e18a-49b6-b971-b115bc71b4e0",
   "metadata": {},
   "outputs": [
    {
     "ename": "NameError",
     "evalue": "name 'nltk' is not defined",
     "output_type": "error",
     "traceback": [
      "\u001b[0;31m---------------------------------------------------------------------------\u001b[0m",
      "\u001b[0;31mNameError\u001b[0m                                 Traceback (most recent call last)",
      "Cell \u001b[0;32mIn[20], line 1\u001b[0m\n\u001b[0;32m----> 1\u001b[0m nltk\u001b[38;5;241m.\u001b[39mdownload(\u001b[38;5;124m'\u001b[39m\u001b[38;5;124mpunkt\u001b[39m\u001b[38;5;124m'\u001b[39m)\n",
      "\u001b[0;31mNameError\u001b[0m: name 'nltk' is not defined"
     ]
    }
   ],
   "source": [
    "nltk.download('punkt')"
   ]
  },
  {
   "cell_type": "code",
   "execution_count": null,
   "id": "624c2e9d-80b2-46f1-a1ca-9ba5e5502b52",
   "metadata": {},
   "outputs": [],
   "source": []
  },
  {
   "cell_type": "code",
   "execution_count": 22,
   "id": "d9e59c0a-cc33-469e-8ef6-54e05ee7451d",
   "metadata": {},
   "outputs": [
    {
     "name": "stderr",
     "output_type": "stream",
     "text": [
      "[nltk_data] Downloading package punkt to\n",
      "[nltk_data]     /home/5b3b8f00-0889-4308-ab78-\n",
      "[nltk_data]     3f288909aa20/nltk_data...\n",
      "[nltk_data]   Package punkt is already up-to-date!\n"
     ]
    },
    {
     "data": {
      "text/plain": [
       "True"
      ]
     },
     "execution_count": 22,
     "metadata": {},
     "output_type": "execute_result"
    }
   ],
   "source": [
    "import nltk\n",
    "\n",
    "nltk.download('punkt')"
   ]
  },
  {
   "cell_type": "code",
   "execution_count": 2,
   "id": "dc501dbc-9f79-4afc-bd22-61952afe0e1e",
   "metadata": {},
   "outputs": [
    {
     "name": "stderr",
     "output_type": "stream",
     "text": [
      "[nltk_data] Downloading package stopwords to\n",
      "[nltk_data]     /home/5b3b8f00-0889-4308-ab78-\n",
      "[nltk_data]     3f288909aa20/nltk_data...\n",
      "[nltk_data]   Unzipping corpora/stopwords.zip.\n"
     ]
    },
    {
     "data": {
      "text/plain": [
       "True"
      ]
     },
     "execution_count": 2,
     "metadata": {},
     "output_type": "execute_result"
    }
   ],
   "source": [
    "import nltk\n",
    "nltk.download('stopwords')\n"
   ]
  },
  {
   "cell_type": "code",
   "execution_count": 4,
   "id": "7daf0ed1-6708-4974-bdfd-67c35e570da2",
   "metadata": {},
   "outputs": [
    {
     "name": "stderr",
     "output_type": "stream",
     "text": [
      "[nltk_data] Downloading package wordnet to\n",
      "[nltk_data]     /home/5b3b8f00-0889-4308-ab78-\n",
      "[nltk_data]     3f288909aa20/nltk_data...\n",
      "[nltk_data]   Package wordnet is already up-to-date!\n"
     ]
    },
    {
     "data": {
      "text/plain": [
       "True"
      ]
     },
     "execution_count": 4,
     "metadata": {},
     "output_type": "execute_result"
    }
   ],
   "source": [
    "import nltk\n",
    "nltk.download('wordnet')"
   ]
  },
  {
   "cell_type": "code",
   "execution_count": 6,
   "id": "fd1d5847-80bd-493e-a48a-0b4e322dd998",
   "metadata": {},
   "outputs": [],
   "source": [
    "documents = \"\"\"\n",
    "1601: 43 Elizabeth 1 c.2: An Act for the Relief of the Poor\n",
    "Be it enacted by the authority of this present parliament, that the churchwardens of every Parish, and four, three or two substantial householders there, as shall be thought meet, having respect to the proportion and greatness of the same Parish and Parishes to be nominated yearly in Easter week, or within one month after Easter, under the hand and seal of two or more Justices of the Peace in the same County, whereof one to be of the Quorum, dwelling in or near same Parish of division where the same parish doth lie, shall be called Overseers of the poor of the same Parish, and they, or the greater part of them shall take order from time to time, by and with the consent of two or more Justices of Peace, as is aforesaid, for setting to work of the children whose parents shall not by the said Churchwardens, and Overseers, or the greater part of them, be thought able to keep and maintain their children.\n",
    "... (rest of the text) ...\n",
    "forfeit twenty shillings for every month which they shall fail therein.\n",
    "And be it further hereby enacted, That the Mayors, Bailiffs, or other head Officers of every Town and place corporate, and City within this Realm, being Justice or Justices of peace, shall have the same authority by virtue of this Act, within the limits and precincts of their jurisdictions, as well out of Sessions as at their Sessions, if they hold any, as is herein limited, prescribed, and appointed to Justices of the Peace of the County, or any two or more of them, or to the Justices of peace in their quarter Sessions, to do and execute for all the uses and purposes in this Act prescribed, and no other Justice or Justices of peace to enter or meddle there. And that every Alderman of the City of London within his ward, shall and may do and execute in every respect, so much as is appointed and allowed by this Act to be done and executed by one or two Justices of peace, of any County within this Realm.\n",
    "\"\"\"\n"
   ]
  },
  {
   "cell_type": "code",
   "execution_count": 8,
   "id": "11748f0a-7f1b-4926-9e6d-b6271fe1a824",
   "metadata": {},
   "outputs": [],
   "source": [
    "from nltk.tokenize import word_tokenize\n",
    "\n",
    "# Tokenize the text\n",
    "tokenized_documents = [word_tokenize(document.lower()) for document in documents.split(\"\\n\") if document.strip() != \"\"]\n"
   ]
  },
  {
   "cell_type": "code",
   "execution_count": 10,
   "id": "6fb9c937-d13e-4c01-bd50-27f2145a5eac",
   "metadata": {},
   "outputs": [],
   "source": [
    "from nltk.corpus import stopwords\n",
    "\n",
    "# Get the list of English stopwords\n",
    "stop_words = set(stopwords.words(\"english\"))\n",
    "\n",
    "# Remove stopwords from the tokenized documents\n",
    "filtered_documents = [[word for word in doc if word not in stop_words] for doc in tokenized_documents]\n"
   ]
  },
  {
   "cell_type": "code",
   "execution_count": 12,
   "id": "52b57fe2-6f36-4a9f-b910-d4b59460897a",
   "metadata": {},
   "outputs": [],
   "source": [
    "from nltk.stem import WordNetLemmatizer\n",
    "\n",
    "# Initialize the lemmatizer\n",
    "lemmatizer = WordNetLemmatizer()\n",
    "\n",
    "# Lemmatize the filtered documents\n",
    "lemmatized_documents = [[lemmatizer.lemmatize(word) for word in doc] for doc in filtered_documents]\n"
   ]
  },
  {
   "cell_type": "code",
   "execution_count": 14,
   "id": "a3c78902-1581-4cf1-8771-98b9672ebcf7",
   "metadata": {},
   "outputs": [],
   "source": [
    "from gensim.corpora import Dictionary\n",
    "\n",
    "# Create a dictionary from the lemmatized documents\n",
    "dictionary = Dictionary(lemmatized_documents)\n"
   ]
  },
  {
   "cell_type": "code",
   "execution_count": 16,
   "id": "cc16e166-d03d-4d8b-8eca-a13159d2eb4a",
   "metadata": {},
   "outputs": [],
   "source": [
    "from gensim.models import TfidfModel\n",
    "\n",
    "# Create a bag-of-words corpus\n",
    "corpus = [dictionary.doc2bow(doc) for doc in lemmatized_documents]\n",
    "\n",
    "# Create a TF-IDF model\n",
    "tfidf = TfidfModel(corpus)\n",
    "corpus_tfidf = tfidf[corpus]\n"
   ]
  },
  {
   "cell_type": "code",
   "execution_count": 18,
   "id": "c7ccce98-9af4-4980-b34a-be9ff02ddb72",
   "metadata": {},
   "outputs": [],
   "source": [
    "from gensim.models import LdaModel\n",
    "\n",
    "# Build an LDA model\n",
    "lda_model = LdaModel(corpus_tfidf, id2word=dictionary, num_topics=10, passes=10)\n"
   ]
  },
  {
   "cell_type": "code",
   "execution_count": 20,
   "id": "5db0daf7-cd38-4b08-bc88-6b658df6a431",
   "metadata": {},
   "outputs": [],
   "source": [
    "from gensim.models import LdaModel\n",
    "\n",
    "# Build an LDA model\n",
    "lda_model = LdaModel(corpus_tfidf, id2word=dictionary, num_topics=35, passes=25)\n"
   ]
  },
  {
   "cell_type": "code",
   "execution_count": 26,
   "id": "b8266221-0b4a-4d28-9cdb-8790f8a566dc",
   "metadata": {},
   "outputs": [],
   "source": [
    "from gensim.models import LdaModel\n",
    "\n",
    "# Build an LDA model\n",
    "lda_model = LdaModel(corpus_tfidf, id2word=dictionary, num_topics=35, passes=25)\n"
   ]
  },
  {
   "cell_type": "code",
   "execution_count": 22,
   "id": "6f9aeae4-43f1-4b3f-bcf1-c2e509ec2cb2",
   "metadata": {},
   "outputs": [
    {
     "name": "stdout",
     "output_type": "stream",
     "text": [
      "Topic 0: 0.009*\"...\" + 0.009*\"(\" + 0.009*\",\" + 0.009*\"1\" + 0.009*\".\" + 0.009*\"enacted\" + 0.009*\"authority\" + 0.009*\"text\" + 0.009*\"fail\" + 0.009*\"respect\"\n",
      "\n",
      "Topic 1: 0.051*\":\" + 0.029*\"43\" + 0.029*\"elizabeth\" + 0.029*\"1601\" + 0.029*\"relief\" + 0.029*\"c.2\" + 0.029*\"1\" + 0.020*\"poor\" + 0.020*\"act\" + 0.007*\"...\"\n",
      "\n",
      "Topic 2: 0.009*\"...\" + 0.009*\"text\" + 0.009*\".\" + 0.009*\"poor\" + 0.009*\"1\" + 0.009*\"authority\" + 0.009*\"respect\" + 0.009*\"enacted\" + 0.009*\"(\" + 0.009*\"every\"\n",
      "\n",
      "Topic 3: 0.009*\"...\" + 0.009*\",\" + 0.009*\"text\" + 0.009*\"(\" + 0.009*\"authority\" + 0.009*\"fail\" + 0.009*\"forfeit\" + 0.009*\"respect\" + 0.009*\"1\" + 0.009*\"enacted\"\n",
      "\n",
      "Topic 4: 0.047*\",\" + 0.045*\"...\" + 0.025*\")\" + 0.025*\"rest\" + 0.025*\"(\" + 0.025*\"text\" + 0.021*\"justice\" + 0.017*\"session\" + 0.016*\"peace\" + 0.014*\"within\"\n",
      "\n",
      "Topic 5: 0.009*\"...\" + 0.009*\"(\" + 0.009*\",\" + 0.009*\"poor\" + 0.009*\"authority\" + 0.009*\"respect\" + 0.009*\".\" + 0.009*\"enacted\" + 0.009*\"1\" + 0.009*\"text\"\n",
      "\n",
      "Topic 6: 0.009*\"...\" + 0.009*\",\" + 0.009*\"text\" + 0.009*\")\" + 0.009*\"twenty\" + 0.009*\"respect\" + 0.009*\"enacted\" + 0.009*\"authority\" + 0.009*\".\" + 0.009*\"(\"\n",
      "\n",
      "Topic 7: 0.009*\"...\" + 0.009*\",\" + 0.009*\"text\" + 0.009*\"forfeit\" + 0.009*\"1\" + 0.009*\"respect\" + 0.009*\"enacted\" + 0.009*\"c.2\" + 0.009*\"authority\" + 0.009*\"(\"\n",
      "\n",
      "Topic 8: 0.042*\",\" + 0.027*\"shilling\" + 0.027*\"therein\" + 0.027*\"twenty\" + 0.027*\"fail\" + 0.027*\"forfeit\" + 0.027*\"parish\" + 0.020*\"month\" + 0.017*\"shall\" + 0.013*\".\"\n",
      "\n",
      "Topic 9: 0.009*\"...\" + 0.009*\"text\" + 0.009*\"authority\" + 0.009*\"forfeit\" + 0.009*\"(\" + 0.009*\".\" + 0.009*\",\" + 0.009*\"therein\" + 0.009*\":\" + 0.009*\"respect\"\n",
      "\n"
     ]
    }
   ],
   "source": [
    "# Print the topics\n",
    "for topic_id, topic_words in lda_model.print_topics():\n",
    "    print(f\"Topic {topic_id}: {topic_words}\\n\")\n"
   ]
  },
  {
   "cell_type": "code",
   "execution_count": 24,
   "id": "bbfc7cbd-1843-4941-a7bf-128c335f9ed2",
   "metadata": {},
   "outputs": [
    {
     "ename": "SyntaxError",
     "evalue": "invalid syntax (3908443889.py, line 1)",
     "output_type": "error",
     "traceback": [
      "\u001b[0;36m  Cell \u001b[0;32mIn[24], line 1\u001b[0;36m\u001b[0m\n\u001b[0;31m    Topic 0: 0.009*\"...\" + 0.009*\"(\" + 0.009*\",\" + 0.009*\"1\" + 0.009*\".\" + 0.009*\"enacted\" + 0.009*\"authority\" + 0.009*\"text\" + 0.009*\"fail\" + 0.009*\"respect\"\u001b[0m\n\u001b[0m          ^\u001b[0m\n\u001b[0;31mSyntaxError\u001b[0m\u001b[0;31m:\u001b[0m invalid syntax\n"
     ]
    }
   ],
   "source": [
    "Topic 0: 0.009*\"...\" + 0.009*\"(\" + 0.009*\",\" + 0.009*\"1\" + 0.009*\".\" + 0.009*\"enacted\" + 0.009*\"authority\" + 0.009*\"text\" + 0.009*\"fail\" + 0.009*\"respect\"\n",
    "\n",
    "Topic 1: 0.051*\":\" + 0.029*\"43\" + 0.029*\"elizabeth\" + 0.029*\"1601\" + 0.029*\"relief\" + 0.029*\"c.2\" + 0.029*\"1\" + 0.020*\"poor\" + 0.020*\"act\" + 0.007*\"...\"\n",
    "\n",
    "Topic 2: 0.009*\"...\" + 0.009*\"text\" + 0.009*\".\" + 0.009*\"poor\" + 0.009*\"1\" + 0.009*\"authority\" + 0.009*\"respect\" + 0.009*\"enacted\" + 0.009*\"(\" + 0.009*\"every\"\n",
    "\n",
    "Topic 3: 0.009*\"...\" + 0.009*\",\" + 0.009*\"text\" + 0.009*\"(\" + 0.009*\"authority\" + 0.009*\"fail\" + 0.009*\"forfeit\" + 0.009*\"respect\" + 0.009*\"1\" + 0.009*\"enacted\"\n",
    "\n",
    "Topic 4: 0.047*\",\" + 0.045*\"...\" + 0.025*\")\" + 0.025*\"rest\" + 0.025*\"(\" + 0.025*\"text\" + 0.021*\"justice\" + 0.017*\"session\" + 0.016*\"peace\" + 0.014*\"within\"\n",
    "\n",
    "Topic 5: 0.009*\"...\" + 0.009*\"(\" + 0.009*\",\" + 0.009*\"poor\" + 0.009*\"authority\" + 0.009*\"respect\" + 0.009*\".\" + 0.009*\"enacted\" + 0.009*\"1\" + 0.009*\"text\"\n",
    "\n",
    "Topic 6: 0.009*\"...\" + 0.009*\",\" + 0.009*\"text\" + 0.009*\")\" + 0.009*\"twenty\" + 0.009*\"respect\" + 0.009*\"enacted\" + 0.009*\"authority\" + 0.009*\".\" + 0.009*\"(\"\n",
    "\n",
    "Topic 7: 0.009*\"...\" + 0.009*\",\" + 0.009*\"text\" + 0.009*\"forfeit\" + 0.009*\"1\" + 0.009*\"respect\" + 0.009*\"enacted\" + 0.009*\"c.2\" + 0.009*\"authority\" + 0.009*\"(\"\n",
    "\n",
    "Topic 8: 0.042*\",\" + 0.027*\"shilling\" + 0.027*\"therein\" + 0.027*\"twenty\" + 0.027*\"fail\" + 0.027*\"forfeit\" + 0.027*\"parish\" + 0.020*\"month\" + 0.017*\"shall\" + 0.013*\".\"\n",
    "\n",
    "Topic 9: 0.009*\"...\" + 0.009*\"text\" + 0.009*\"authority\" + 0.009*\"forfeit\" + 0.009*\"(\" + 0.009*\".\" + 0.009*\",\" + 0.009*\"therein\" + 0.009*\":\" + 0.009*\"respect\""
   ]
  },
  {
   "cell_type": "code",
   "execution_count": 28,
   "id": "b1013172-48dd-417d-8a6e-a10d953ccd1e",
   "metadata": {},
   "outputs": [],
   "source": [
    "from gensim.models import LdaModel\n",
    "\n",
    "# Build an LDA model\n",
    "lda_model = LdaModel(corpus_tfidf, id2word=dictionary, num_topics=35, passes=20)\n"
   ]
  },
  {
   "cell_type": "code",
   "execution_count": 30,
   "id": "14f53c92-9b72-4769-aeea-92b025ab88f2",
   "metadata": {},
   "outputs": [
    {
     "name": "stdout",
     "output_type": "stream",
     "text": [
      "Topic 3: 0.009*\"alderman\" + 0.009*\"allowed\" + 0.009*\"forfeit\" + 0.009*\"shilling\" + 0.009*\"therein\" + 0.009*\"twenty\" + 0.009*\"text\" + 0.009*\"corporate\" + 0.009*\"bailiff\" + 0.009*\"rest\"\n",
      "\n",
      "Topic 8: 0.009*\"alderman\" + 0.009*\"allowed\" + 0.009*\"forfeit\" + 0.009*\"shilling\" + 0.009*\"therein\" + 0.009*\"twenty\" + 0.009*\"text\" + 0.009*\"corporate\" + 0.009*\"bailiff\" + 0.009*\"rest\"\n",
      "\n",
      "Topic 4: 0.009*\"alderman\" + 0.009*\"allowed\" + 0.009*\"forfeit\" + 0.009*\"shilling\" + 0.009*\"therein\" + 0.009*\"twenty\" + 0.009*\"text\" + 0.009*\"corporate\" + 0.009*\"bailiff\" + 0.009*\"rest\"\n",
      "\n",
      "Topic 24: 0.009*\"alderman\" + 0.009*\"allowed\" + 0.009*\"forfeit\" + 0.009*\"shilling\" + 0.009*\"therein\" + 0.009*\"twenty\" + 0.009*\"text\" + 0.009*\"corporate\" + 0.009*\"bailiff\" + 0.009*\"rest\"\n",
      "\n",
      "Topic 12: 0.009*\"alderman\" + 0.009*\"allowed\" + 0.009*\"forfeit\" + 0.009*\"shilling\" + 0.009*\"therein\" + 0.009*\"twenty\" + 0.009*\"text\" + 0.009*\"corporate\" + 0.009*\"bailiff\" + 0.009*\"rest\"\n",
      "\n",
      "Topic 29: 0.009*\"alderman\" + 0.009*\"allowed\" + 0.009*\"forfeit\" + 0.009*\"shilling\" + 0.009*\"therein\" + 0.009*\"twenty\" + 0.009*\"text\" + 0.009*\"corporate\" + 0.009*\"bailiff\" + 0.009*\"rest\"\n",
      "\n",
      "Topic 5: 0.009*\"alderman\" + 0.009*\"allowed\" + 0.009*\"forfeit\" + 0.009*\"shilling\" + 0.009*\"therein\" + 0.009*\"twenty\" + 0.009*\"text\" + 0.009*\"corporate\" + 0.009*\"bailiff\" + 0.009*\"rest\"\n",
      "\n",
      "Topic 23: 0.009*\"alderman\" + 0.009*\"allowed\" + 0.009*\"forfeit\" + 0.009*\"shilling\" + 0.009*\"therein\" + 0.009*\"twenty\" + 0.009*\"text\" + 0.009*\"corporate\" + 0.009*\"bailiff\" + 0.009*\"rest\"\n",
      "\n",
      "Topic 7: 0.009*\"alderman\" + 0.009*\"allowed\" + 0.009*\"forfeit\" + 0.009*\"shilling\" + 0.009*\"therein\" + 0.009*\"twenty\" + 0.009*\"text\" + 0.009*\"corporate\" + 0.009*\"bailiff\" + 0.009*\"rest\"\n",
      "\n",
      "Topic 33: 0.009*\"alderman\" + 0.009*\"allowed\" + 0.009*\"forfeit\" + 0.009*\"shilling\" + 0.009*\"therein\" + 0.009*\"twenty\" + 0.009*\"text\" + 0.009*\"corporate\" + 0.009*\"bailiff\" + 0.009*\"rest\"\n",
      "\n",
      "Topic 17: 0.009*\"alderman\" + 0.009*\"allowed\" + 0.009*\"forfeit\" + 0.009*\"shilling\" + 0.009*\"therein\" + 0.009*\"twenty\" + 0.009*\"text\" + 0.009*\"corporate\" + 0.009*\"bailiff\" + 0.009*\"rest\"\n",
      "\n",
      "Topic 28: 0.009*\"alderman\" + 0.009*\"allowed\" + 0.009*\"forfeit\" + 0.009*\"shilling\" + 0.009*\"therein\" + 0.009*\"twenty\" + 0.009*\"text\" + 0.009*\"corporate\" + 0.009*\"bailiff\" + 0.009*\"rest\"\n",
      "\n",
      "Topic 34: 0.009*\"alderman\" + 0.009*\"allowed\" + 0.009*\"forfeit\" + 0.009*\"shilling\" + 0.009*\"therein\" + 0.009*\"twenty\" + 0.009*\"text\" + 0.009*\"corporate\" + 0.009*\"bailiff\" + 0.009*\"rest\"\n",
      "\n",
      "Topic 9: 0.009*\"alderman\" + 0.009*\"allowed\" + 0.009*\"forfeit\" + 0.009*\"shilling\" + 0.009*\"therein\" + 0.009*\"twenty\" + 0.009*\"text\" + 0.009*\"corporate\" + 0.009*\"bailiff\" + 0.009*\"rest\"\n",
      "\n",
      "Topic 11: 0.009*\"alderman\" + 0.009*\"allowed\" + 0.009*\"forfeit\" + 0.009*\"shilling\" + 0.009*\"therein\" + 0.009*\"twenty\" + 0.009*\"text\" + 0.009*\"corporate\" + 0.009*\"bailiff\" + 0.009*\"rest\"\n",
      "\n",
      "Topic 32: 0.009*\"alderman\" + 0.009*\"allowed\" + 0.009*\"forfeit\" + 0.009*\"shilling\" + 0.009*\"therein\" + 0.009*\"twenty\" + 0.009*\"text\" + 0.009*\"corporate\" + 0.009*\"bailiff\" + 0.009*\"rest\"\n",
      "\n",
      "Topic 26: 0.139*\"...\" + 0.072*\"rest\" + 0.072*\"text\" + 0.072*\")\" + 0.072*\"(\" + 0.005*\"shilling\" + 0.005*\"therein\" + 0.005*\"forfeit\" + 0.005*\"twenty\" + 0.005*\"corporate\"\n",
      "\n",
      "Topic 6: 0.076*\"twenty\" + 0.076*\"fail\" + 0.076*\"shilling\" + 0.076*\"therein\" + 0.076*\"forfeit\" + 0.045*\"month\" + 0.027*\"every\" + 0.027*\"shall\" + 0.027*\".\" + 0.005*\"text\"\n",
      "\n",
      "Topic 20: 0.092*\",\" + 0.055*\"parish\" + 0.021*\"part\" + 0.021*\"child\" + 0.021*\"greater\" + 0.021*\"overseer\" + 0.021*\"easter\" + 0.021*\"time\" + 0.021*\"thought\" + 0.021*\"churchwarden\"\n",
      "\n",
      "Topic 21: 0.009*\"alderman\" + 0.009*\"allowed\" + 0.009*\"forfeit\" + 0.009*\"shilling\" + 0.009*\"therein\" + 0.009*\"twenty\" + 0.009*\"text\" + 0.009*\"corporate\" + 0.009*\"bailiff\" + 0.009*\"rest\"\n",
      "\n"
     ]
    }
   ],
   "source": [
    "# Print the topics\n",
    "for topic_id, topic_words in lda_model.print_topics():\n",
    "    print(f\"Topic {topic_id}: {topic_words}\\n\")\n"
   ]
  },
  {
   "cell_type": "code",
   "execution_count": null,
   "id": "88a80792-f3c1-49da-8c19-1fcc1d06839b",
   "metadata": {},
   "outputs": [],
   "source": []
  },
  {
   "cell_type": "code",
   "execution_count": 3,
   "id": "d581cd11-f711-425c-bb0d-b7809798fab1",
   "metadata": {},
   "outputs": [
    {
     "ename": "SyntaxError",
     "evalue": "invalid syntax (1454634838.py, line 1)",
     "output_type": "error",
     "traceback": [
      "\u001b[0;36m  Cell \u001b[0;32mIn[3], line 1\u001b[0;36m\u001b[0m\n\u001b[0;31m    git clone [Your-Repo-URL]\u001b[0m\n\u001b[0m        ^\u001b[0m\n\u001b[0;31mSyntaxError\u001b[0m\u001b[0;31m:\u001b[0m invalid syntax\n"
     ]
    }
   ],
   "source": [
    "git clone [Your-Repo-URL]\n"
   ]
  },
  {
   "cell_type": "code",
   "execution_count": null,
   "id": "75ae52db-e9ac-432b-99cd-09749e30cc4b",
   "metadata": {},
   "outputs": [],
   "source": []
  },
  {
   "cell_type": "code",
   "execution_count": 7,
   "id": "3d568845-c2c0-420c-b8bc-0f7882070221",
   "metadata": {},
   "outputs": [
    {
     "ename": "SyntaxError",
     "evalue": "invalid syntax (4083443926.py, line 1)",
     "output_type": "error",
     "traceback": [
      "\u001b[0;36m  Cell \u001b[0;32mIn[7], line 1\u001b[0;36m\u001b[0m\n\u001b[0;31m    git clone https://github.com/TYasinMartin/Elizabethan-Poor-Laws\u001b[0m\n\u001b[0m        ^\u001b[0m\n\u001b[0;31mSyntaxError\u001b[0m\u001b[0;31m:\u001b[0m invalid syntax\n"
     ]
    }
   ],
   "source": [
    "git clone https://github.com/TYasinMartin/Elizabethan-Poor-Laws"
   ]
  },
  {
   "cell_type": "code",
   "execution_count": 5,
   "id": "112bc321-306d-4441-9780-2fed0c6bd052",
   "metadata": {},
   "outputs": [
    {
     "name": "stdout",
     "output_type": "stream",
     "text": [
      "fatal: repository '[Your-Repo-URL]' does not exist\n"
     ]
    }
   ],
   "source": [
    "!git clone [Your-Repo-URL]"
   ]
  },
  {
   "cell_type": "code",
   "execution_count": 10,
   "id": "b84cf29b-f996-40e2-b0f4-47e37f87053a",
   "metadata": {},
   "outputs": [
    {
     "data": {
      "text/plain": [
       "'/home/5b3b8f00-0889-4308-ab78-3f288909aa20/Poor Laws Project'"
      ]
     },
     "execution_count": 10,
     "metadata": {},
     "output_type": "execute_result"
    }
   ],
   "source": [
    "import os\n",
    "os.getcwd()\n"
   ]
  },
  {
   "cell_type": "code",
   "execution_count": null,
   "id": "08b1b697-1e64-48bb-85d1-a3b9d4869e6b",
   "metadata": {},
   "outputs": [],
   "source": []
  }
 ],
 "metadata": {
  "kernelspec": {
   "display_name": "anaconda-panel-2023.05-py310",
   "language": "python",
   "name": "conda-env-anaconda-panel-2023.05-py310-py"
  },
  "language_info": {
   "codemirror_mode": {
    "name": "ipython",
    "version": 3
   },
   "file_extension": ".py",
   "mimetype": "text/x-python",
   "name": "python",
   "nbconvert_exporter": "python",
   "pygments_lexer": "ipython3",
   "version": "3.11.4"
  }
 },
 "nbformat": 4,
 "nbformat_minor": 5
}
